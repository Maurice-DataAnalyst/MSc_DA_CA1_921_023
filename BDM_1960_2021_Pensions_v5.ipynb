{
 "cells": [
  {
   "cell_type": "markdown",
   "metadata": {},
   "source": [
    "# Examining Births Deaths and Marriages data from cso.ie"
   ]
  },
  {
   "cell_type": "markdown",
   "metadata": {},
   "source": [
    "#### Name:             Maurice Dixon\n",
    "#### Course:          MSc in Data Analytics\n",
    "#### College:          CCT\n",
    "#### Assignment:  CA1\n",
    "#### Year:               2021"
   ]
  },
  {
   "cell_type": "code",
   "execution_count": 1,
   "metadata": {},
   "outputs": [],
   "source": [
    "import pandas as pd"
   ]
  },
  {
   "cell_type": "markdown",
   "metadata": {},
   "source": [
    "##### Read in csv file"
   ]
  },
  {
   "cell_type": "code",
   "execution_count": 2,
   "metadata": {},
   "outputs": [],
   "source": [
    "bdm_url = \"../data/pensions/BDM_Ireland1960_2021.csv\""
   ]
  },
  {
   "cell_type": "code",
   "execution_count": 3,
   "metadata": {},
   "outputs": [],
   "source": [
    "bdm_df = pd.read_csv(bdm_url)"
   ]
  },
  {
   "cell_type": "markdown",
   "metadata": {},
   "source": [
    "##### Exploratory data analysis"
   ]
  },
  {
   "cell_type": "code",
   "execution_count": 4,
   "metadata": {},
   "outputs": [
    {
     "data": {
      "text/plain": [
       "(245, 9)"
      ]
     },
     "execution_count": 4,
     "metadata": {},
     "output_type": "execute_result"
    }
   ],
   "source": [
    "bdm_df.shape"
   ]
  },
  {
   "cell_type": "code",
   "execution_count": 5,
   "metadata": {},
   "outputs": [
    {
     "data": {
      "text/plain": [
       "Quarter                                                                 object\n",
       "State                                                                   object\n",
       "Marriages Registered (Number)                                            int64\n",
       "Marriage Rate Registered per 1,000 Estimated Population (Number)       float64\n",
       "Deaths Registered (Number)                                               int64\n",
       "Death Rate Registered per 1,000 Estimated Population (Number)          float64\n",
       "Deaths of Infants under 1 Year Registered per 1,000 Births (Number)    float64\n",
       "Births Registered (Number)                                               int64\n",
       "Birth Rate Registered per 1,000 Estimated Population (Number)          float64\n",
       "dtype: object"
      ]
     },
     "execution_count": 5,
     "metadata": {},
     "output_type": "execute_result"
    }
   ],
   "source": [
    "bdm_df.dtypes"
   ]
  },
  {
   "cell_type": "code",
   "execution_count": 6,
   "metadata": {},
   "outputs": [
    {
     "name": "stdout",
     "output_type": "stream",
     "text": [
      "<class 'pandas.core.frame.DataFrame'>\n",
      "RangeIndex: 245 entries, 0 to 244\n",
      "Data columns (total 9 columns):\n",
      " #   Column                                                               Non-Null Count  Dtype  \n",
      "---  ------                                                               --------------  -----  \n",
      " 0   Quarter                                                              245 non-null    object \n",
      " 1   State                                                                245 non-null    object \n",
      " 2   Marriages Registered (Number)                                        245 non-null    int64  \n",
      " 3   Marriage Rate Registered per 1,000 Estimated Population (Number)     245 non-null    float64\n",
      " 4   Deaths Registered (Number)                                           245 non-null    int64  \n",
      " 5   Death Rate Registered per 1,000 Estimated Population (Number)        245 non-null    float64\n",
      " 6   Deaths of Infants under 1 Year Registered per 1,000 Births (Number)  245 non-null    float64\n",
      " 7   Births Registered (Number)                                           245 non-null    int64  \n",
      " 8   Birth Rate Registered per 1,000 Estimated Population (Number)        245 non-null    float64\n",
      "dtypes: float64(4), int64(3), object(2)\n",
      "memory usage: 17.4+ KB\n"
     ]
    }
   ],
   "source": [
    "bdm_df.info()"
   ]
  },
  {
   "cell_type": "code",
   "execution_count": 7,
   "metadata": {},
   "outputs": [
    {
     "data": {
      "text/html": [
       "<div>\n",
       "<style scoped>\n",
       "    .dataframe tbody tr th:only-of-type {\n",
       "        vertical-align: middle;\n",
       "    }\n",
       "\n",
       "    .dataframe tbody tr th {\n",
       "        vertical-align: top;\n",
       "    }\n",
       "\n",
       "    .dataframe thead th {\n",
       "        text-align: right;\n",
       "    }\n",
       "</style>\n",
       "<table border=\"1\" class=\"dataframe\">\n",
       "  <thead>\n",
       "    <tr style=\"text-align: right;\">\n",
       "      <th></th>\n",
       "      <th>Marriages Registered (Number)</th>\n",
       "      <th>Marriage Rate Registered per 1,000 Estimated Population (Number)</th>\n",
       "      <th>Deaths Registered (Number)</th>\n",
       "      <th>Death Rate Registered per 1,000 Estimated Population (Number)</th>\n",
       "      <th>Deaths of Infants under 1 Year Registered per 1,000 Births (Number)</th>\n",
       "      <th>Births Registered (Number)</th>\n",
       "      <th>Birth Rate Registered per 1,000 Estimated Population (Number)</th>\n",
       "    </tr>\n",
       "  </thead>\n",
       "  <tbody>\n",
       "    <tr>\n",
       "      <th>count</th>\n",
       "      <td>245.000000</td>\n",
       "      <td>245.000000</td>\n",
       "      <td>245.000000</td>\n",
       "      <td>245.000000</td>\n",
       "      <td>245.000000</td>\n",
       "      <td>245.00000</td>\n",
       "      <td>245.000000</td>\n",
       "    </tr>\n",
       "    <tr>\n",
       "      <th>mean</th>\n",
       "      <td>4798.314286</td>\n",
       "      <td>5.349388</td>\n",
       "      <td>7873.355102</td>\n",
       "      <td>8.887347</td>\n",
       "      <td>10.848571</td>\n",
       "      <td>15653.17551</td>\n",
       "      <td>17.497551</td>\n",
       "    </tr>\n",
       "    <tr>\n",
       "      <th>std</th>\n",
       "      <td>1801.848776</td>\n",
       "      <td>2.086640</td>\n",
       "      <td>957.653844</td>\n",
       "      <td>2.179272</td>\n",
       "      <td>8.235258</td>\n",
       "      <td>1958.12091</td>\n",
       "      <td>3.551552</td>\n",
       "    </tr>\n",
       "    <tr>\n",
       "      <th>min</th>\n",
       "      <td>304.000000</td>\n",
       "      <td>0.200000</td>\n",
       "      <td>6113.000000</td>\n",
       "      <td>5.400000</td>\n",
       "      <td>2.100000</td>\n",
       "      <td>10947.00000</td>\n",
       "      <td>10.900000</td>\n",
       "    </tr>\n",
       "    <tr>\n",
       "      <th>25%</th>\n",
       "      <td>3539.000000</td>\n",
       "      <td>4.100000</td>\n",
       "      <td>7154.000000</td>\n",
       "      <td>7.100000</td>\n",
       "      <td>4.400000</td>\n",
       "      <td>14232.00000</td>\n",
       "      <td>14.800000</td>\n",
       "    </tr>\n",
       "    <tr>\n",
       "      <th>50%</th>\n",
       "      <td>4533.000000</td>\n",
       "      <td>4.900000</td>\n",
       "      <td>7636.000000</td>\n",
       "      <td>8.700000</td>\n",
       "      <td>7.400000</td>\n",
       "      <td>15635.00000</td>\n",
       "      <td>16.500000</td>\n",
       "    </tr>\n",
       "    <tr>\n",
       "      <th>75%</th>\n",
       "      <td>5616.000000</td>\n",
       "      <td>6.600000</td>\n",
       "      <td>8426.000000</td>\n",
       "      <td>10.400000</td>\n",
       "      <td>16.200000</td>\n",
       "      <td>17133.00000</td>\n",
       "      <td>21.100000</td>\n",
       "    </tr>\n",
       "    <tr>\n",
       "      <th>max</th>\n",
       "      <td>8949.000000</td>\n",
       "      <td>10.300000</td>\n",
       "      <td>11883.000000</td>\n",
       "      <td>17.100000</td>\n",
       "      <td>35.700000</td>\n",
       "      <td>19950.00000</td>\n",
       "      <td>24.400000</td>\n",
       "    </tr>\n",
       "  </tbody>\n",
       "</table>\n",
       "</div>"
      ],
      "text/plain": [
       "       Marriages Registered (Number)  \\\n",
       "count                     245.000000   \n",
       "mean                     4798.314286   \n",
       "std                      1801.848776   \n",
       "min                       304.000000   \n",
       "25%                      3539.000000   \n",
       "50%                      4533.000000   \n",
       "75%                      5616.000000   \n",
       "max                      8949.000000   \n",
       "\n",
       "       Marriage Rate Registered per 1,000 Estimated Population (Number)  \\\n",
       "count                                         245.000000                  \n",
       "mean                                            5.349388                  \n",
       "std                                             2.086640                  \n",
       "min                                             0.200000                  \n",
       "25%                                             4.100000                  \n",
       "50%                                             4.900000                  \n",
       "75%                                             6.600000                  \n",
       "max                                            10.300000                  \n",
       "\n",
       "       Deaths Registered (Number)  \\\n",
       "count                  245.000000   \n",
       "mean                  7873.355102   \n",
       "std                    957.653844   \n",
       "min                   6113.000000   \n",
       "25%                   7154.000000   \n",
       "50%                   7636.000000   \n",
       "75%                   8426.000000   \n",
       "max                  11883.000000   \n",
       "\n",
       "       Death Rate Registered per 1,000 Estimated Population (Number)  \\\n",
       "count                                         245.000000               \n",
       "mean                                            8.887347               \n",
       "std                                             2.179272               \n",
       "min                                             5.400000               \n",
       "25%                                             7.100000               \n",
       "50%                                             8.700000               \n",
       "75%                                            10.400000               \n",
       "max                                            17.100000               \n",
       "\n",
       "       Deaths of Infants under 1 Year Registered per 1,000 Births (Number)  \\\n",
       "count                                         245.000000                     \n",
       "mean                                           10.848571                     \n",
       "std                                             8.235258                     \n",
       "min                                             2.100000                     \n",
       "25%                                             4.400000                     \n",
       "50%                                             7.400000                     \n",
       "75%                                            16.200000                     \n",
       "max                                            35.700000                     \n",
       "\n",
       "       Births Registered (Number)  \\\n",
       "count                   245.00000   \n",
       "mean                  15653.17551   \n",
       "std                    1958.12091   \n",
       "min                   10947.00000   \n",
       "25%                   14232.00000   \n",
       "50%                   15635.00000   \n",
       "75%                   17133.00000   \n",
       "max                   19950.00000   \n",
       "\n",
       "       Birth Rate Registered per 1,000 Estimated Population (Number)  \n",
       "count                                         245.000000              \n",
       "mean                                           17.497551              \n",
       "std                                             3.551552              \n",
       "min                                            10.900000              \n",
       "25%                                            14.800000              \n",
       "50%                                            16.500000              \n",
       "75%                                            21.100000              \n",
       "max                                            24.400000              "
      ]
     },
     "execution_count": 7,
     "metadata": {},
     "output_type": "execute_result"
    }
   ],
   "source": [
    "bdm_df.describe()"
   ]
  },
  {
   "cell_type": "code",
   "execution_count": 8,
   "metadata": {},
   "outputs": [
    {
     "data": {
      "text/html": [
       "<div>\n",
       "<style scoped>\n",
       "    .dataframe tbody tr th:only-of-type {\n",
       "        vertical-align: middle;\n",
       "    }\n",
       "\n",
       "    .dataframe tbody tr th {\n",
       "        vertical-align: top;\n",
       "    }\n",
       "\n",
       "    .dataframe thead th {\n",
       "        text-align: right;\n",
       "    }\n",
       "</style>\n",
       "<table border=\"1\" class=\"dataframe\">\n",
       "  <thead>\n",
       "    <tr style=\"text-align: right;\">\n",
       "      <th></th>\n",
       "      <th>Quarter</th>\n",
       "      <th>State</th>\n",
       "    </tr>\n",
       "  </thead>\n",
       "  <tbody>\n",
       "    <tr>\n",
       "      <th>count</th>\n",
       "      <td>245</td>\n",
       "      <td>245</td>\n",
       "    </tr>\n",
       "    <tr>\n",
       "      <th>unique</th>\n",
       "      <td>245</td>\n",
       "      <td>1</td>\n",
       "    </tr>\n",
       "    <tr>\n",
       "      <th>top</th>\n",
       "      <td>2009Q3</td>\n",
       "      <td>Ireland</td>\n",
       "    </tr>\n",
       "    <tr>\n",
       "      <th>freq</th>\n",
       "      <td>1</td>\n",
       "      <td>245</td>\n",
       "    </tr>\n",
       "  </tbody>\n",
       "</table>\n",
       "</div>"
      ],
      "text/plain": [
       "       Quarter    State\n",
       "count      245      245\n",
       "unique     245        1\n",
       "top     2009Q3  Ireland\n",
       "freq         1      245"
      ]
     },
     "execution_count": 8,
     "metadata": {},
     "output_type": "execute_result"
    }
   ],
   "source": [
    "bdm_df.describe(include=object)"
   ]
  },
  {
   "cell_type": "code",
   "execution_count": 9,
   "metadata": {},
   "outputs": [
    {
     "data": {
      "text/html": [
       "<div>\n",
       "<style scoped>\n",
       "    .dataframe tbody tr th:only-of-type {\n",
       "        vertical-align: middle;\n",
       "    }\n",
       "\n",
       "    .dataframe tbody tr th {\n",
       "        vertical-align: top;\n",
       "    }\n",
       "\n",
       "    .dataframe thead th {\n",
       "        text-align: right;\n",
       "    }\n",
       "</style>\n",
       "<table border=\"1\" class=\"dataframe\">\n",
       "  <thead>\n",
       "    <tr style=\"text-align: right;\">\n",
       "      <th></th>\n",
       "      <th>Quarter</th>\n",
       "      <th>State</th>\n",
       "      <th>Marriages Registered (Number)</th>\n",
       "      <th>Marriage Rate Registered per 1,000 Estimated Population (Number)</th>\n",
       "      <th>Deaths Registered (Number)</th>\n",
       "      <th>Death Rate Registered per 1,000 Estimated Population (Number)</th>\n",
       "      <th>Deaths of Infants under 1 Year Registered per 1,000 Births (Number)</th>\n",
       "      <th>Births Registered (Number)</th>\n",
       "      <th>Birth Rate Registered per 1,000 Estimated Population (Number)</th>\n",
       "    </tr>\n",
       "  </thead>\n",
       "  <tbody>\n",
       "    <tr>\n",
       "      <th>0</th>\n",
       "      <td>1960Q1</td>\n",
       "      <td>Ireland</td>\n",
       "      <td>2987</td>\n",
       "      <td>4.2</td>\n",
       "      <td>9399</td>\n",
       "      <td>13.3</td>\n",
       "      <td>34.7</td>\n",
       "      <td>14614</td>\n",
       "      <td>20.6</td>\n",
       "    </tr>\n",
       "    <tr>\n",
       "      <th>1</th>\n",
       "      <td>1960Q2</td>\n",
       "      <td>Ireland</td>\n",
       "      <td>3501</td>\n",
       "      <td>4.9</td>\n",
       "      <td>7882</td>\n",
       "      <td>11.1</td>\n",
       "      <td>26.8</td>\n",
       "      <td>16494</td>\n",
       "      <td>23.1</td>\n",
       "    </tr>\n",
       "    <tr>\n",
       "      <th>2</th>\n",
       "      <td>1960Q3</td>\n",
       "      <td>Ireland</td>\n",
       "      <td>5900</td>\n",
       "      <td>8.3</td>\n",
       "      <td>6950</td>\n",
       "      <td>9.8</td>\n",
       "      <td>26.3</td>\n",
       "      <td>15612</td>\n",
       "      <td>22.2</td>\n",
       "    </tr>\n",
       "    <tr>\n",
       "      <th>3</th>\n",
       "      <td>1960Q4</td>\n",
       "      <td>Ireland</td>\n",
       "      <td>3106</td>\n",
       "      <td>4.4</td>\n",
       "      <td>8427</td>\n",
       "      <td>11.7</td>\n",
       "      <td>29.7</td>\n",
       "      <td>14010</td>\n",
       "      <td>19.8</td>\n",
       "    </tr>\n",
       "    <tr>\n",
       "      <th>4</th>\n",
       "      <td>1961Q1</td>\n",
       "      <td>Ireland</td>\n",
       "      <td>2179</td>\n",
       "      <td>3.1</td>\n",
       "      <td>11883</td>\n",
       "      <td>17.1</td>\n",
       "      <td>34.9</td>\n",
       "      <td>14692</td>\n",
       "      <td>20.8</td>\n",
       "    </tr>\n",
       "    <tr>\n",
       "      <th>5</th>\n",
       "      <td>1961Q2</td>\n",
       "      <td>Ireland</td>\n",
       "      <td>3959</td>\n",
       "      <td>5.6</td>\n",
       "      <td>8251</td>\n",
       "      <td>11.7</td>\n",
       "      <td>29.0</td>\n",
       "      <td>16264</td>\n",
       "      <td>23.1</td>\n",
       "    </tr>\n",
       "    <tr>\n",
       "      <th>6</th>\n",
       "      <td>1961Q3</td>\n",
       "      <td>Ireland</td>\n",
       "      <td>5722</td>\n",
       "      <td>8.3</td>\n",
       "      <td>6703</td>\n",
       "      <td>9.8</td>\n",
       "      <td>29.7</td>\n",
       "      <td>14895</td>\n",
       "      <td>21.1</td>\n",
       "    </tr>\n",
       "    <tr>\n",
       "      <th>7</th>\n",
       "      <td>1961Q4</td>\n",
       "      <td>Ireland</td>\n",
       "      <td>3280</td>\n",
       "      <td>4.7</td>\n",
       "      <td>7711</td>\n",
       "      <td>10.9</td>\n",
       "      <td>29.1</td>\n",
       "      <td>13975</td>\n",
       "      <td>19.0</td>\n",
       "    </tr>\n",
       "    <tr>\n",
       "      <th>8</th>\n",
       "      <td>1962Q1</td>\n",
       "      <td>Ireland</td>\n",
       "      <td>2732</td>\n",
       "      <td>3.9</td>\n",
       "      <td>10367</td>\n",
       "      <td>15.3</td>\n",
       "      <td>35.7</td>\n",
       "      <td>14875</td>\n",
       "      <td>21.7</td>\n",
       "    </tr>\n",
       "    <tr>\n",
       "      <th>9</th>\n",
       "      <td>1962Q2</td>\n",
       "      <td>Ireland</td>\n",
       "      <td>3385</td>\n",
       "      <td>4.8</td>\n",
       "      <td>8732</td>\n",
       "      <td>12.1</td>\n",
       "      <td>28.6</td>\n",
       "      <td>16657</td>\n",
       "      <td>23.5</td>\n",
       "    </tr>\n",
       "    <tr>\n",
       "      <th>10</th>\n",
       "      <td>1962Q3</td>\n",
       "      <td>Ireland</td>\n",
       "      <td>6157</td>\n",
       "      <td>8.7</td>\n",
       "      <td>7021</td>\n",
       "      <td>9.9</td>\n",
       "      <td>24.2</td>\n",
       "      <td>15719</td>\n",
       "      <td>22.2</td>\n",
       "    </tr>\n",
       "    <tr>\n",
       "      <th>11</th>\n",
       "      <td>1962Q4</td>\n",
       "      <td>Ireland</td>\n",
       "      <td>3135</td>\n",
       "      <td>4.4</td>\n",
       "      <td>7523</td>\n",
       "      <td>10.6</td>\n",
       "      <td>28.4</td>\n",
       "      <td>14360</td>\n",
       "      <td>20.1</td>\n",
       "    </tr>\n",
       "    <tr>\n",
       "      <th>12</th>\n",
       "      <td>1963Q1</td>\n",
       "      <td>Ireland</td>\n",
       "      <td>2743</td>\n",
       "      <td>3.8</td>\n",
       "      <td>10262</td>\n",
       "      <td>15.1</td>\n",
       "      <td>30.1</td>\n",
       "      <td>15177</td>\n",
       "      <td>21.8</td>\n",
       "    </tr>\n",
       "    <tr>\n",
       "      <th>13</th>\n",
       "      <td>1963Q2</td>\n",
       "      <td>Ireland</td>\n",
       "      <td>3342</td>\n",
       "      <td>4.7</td>\n",
       "      <td>8681</td>\n",
       "      <td>11.9</td>\n",
       "      <td>26.3</td>\n",
       "      <td>17064</td>\n",
       "      <td>23.9</td>\n",
       "    </tr>\n",
       "    <tr>\n",
       "      <th>14</th>\n",
       "      <td>1963Q3</td>\n",
       "      <td>Ireland</td>\n",
       "      <td>5816</td>\n",
       "      <td>8.4</td>\n",
       "      <td>7105</td>\n",
       "      <td>10.0</td>\n",
       "      <td>23.9</td>\n",
       "      <td>16043</td>\n",
       "      <td>23.1</td>\n",
       "    </tr>\n",
       "    <tr>\n",
       "      <th>15</th>\n",
       "      <td>1963Q4</td>\n",
       "      <td>Ireland</td>\n",
       "      <td>3397</td>\n",
       "      <td>4.8</td>\n",
       "      <td>7510</td>\n",
       "      <td>10.5</td>\n",
       "      <td>26.6</td>\n",
       "      <td>14682</td>\n",
       "      <td>20.6</td>\n",
       "    </tr>\n",
       "    <tr>\n",
       "      <th>16</th>\n",
       "      <td>1964Q1</td>\n",
       "      <td>Ireland</td>\n",
       "      <td>2446</td>\n",
       "      <td>3.4</td>\n",
       "      <td>8863</td>\n",
       "      <td>13.0</td>\n",
       "      <td>29.2</td>\n",
       "      <td>15049</td>\n",
       "      <td>21.4</td>\n",
       "    </tr>\n",
       "    <tr>\n",
       "      <th>17</th>\n",
       "      <td>1964Q2</td>\n",
       "      <td>Ireland</td>\n",
       "      <td>4063</td>\n",
       "      <td>5.7</td>\n",
       "      <td>9067</td>\n",
       "      <td>12.5</td>\n",
       "      <td>26.1</td>\n",
       "      <td>17351</td>\n",
       "      <td>24.4</td>\n",
       "    </tr>\n",
       "    <tr>\n",
       "      <th>18</th>\n",
       "      <td>1964Q3</td>\n",
       "      <td>Ireland</td>\n",
       "      <td>6019</td>\n",
       "      <td>9.8</td>\n",
       "      <td>6882</td>\n",
       "      <td>8.5</td>\n",
       "      <td>24.9</td>\n",
       "      <td>16491</td>\n",
       "      <td>23.3</td>\n",
       "    </tr>\n",
       "    <tr>\n",
       "      <th>19</th>\n",
       "      <td>1964Q4</td>\n",
       "      <td>Ireland</td>\n",
       "      <td>3413</td>\n",
       "      <td>4.8</td>\n",
       "      <td>7661</td>\n",
       "      <td>10.5</td>\n",
       "      <td>27.2</td>\n",
       "      <td>15117</td>\n",
       "      <td>21.1</td>\n",
       "    </tr>\n",
       "  </tbody>\n",
       "</table>\n",
       "</div>"
      ],
      "text/plain": [
       "   Quarter    State  Marriages Registered (Number)  \\\n",
       "0   1960Q1  Ireland                           2987   \n",
       "1   1960Q2  Ireland                           3501   \n",
       "2   1960Q3  Ireland                           5900   \n",
       "3   1960Q4  Ireland                           3106   \n",
       "4   1961Q1  Ireland                           2179   \n",
       "5   1961Q2  Ireland                           3959   \n",
       "6   1961Q3  Ireland                           5722   \n",
       "7   1961Q4  Ireland                           3280   \n",
       "8   1962Q1  Ireland                           2732   \n",
       "9   1962Q2  Ireland                           3385   \n",
       "10  1962Q3  Ireland                           6157   \n",
       "11  1962Q4  Ireland                           3135   \n",
       "12  1963Q1  Ireland                           2743   \n",
       "13  1963Q2  Ireland                           3342   \n",
       "14  1963Q3  Ireland                           5816   \n",
       "15  1963Q4  Ireland                           3397   \n",
       "16  1964Q1  Ireland                           2446   \n",
       "17  1964Q2  Ireland                           4063   \n",
       "18  1964Q3  Ireland                           6019   \n",
       "19  1964Q4  Ireland                           3413   \n",
       "\n",
       "    Marriage Rate Registered per 1,000 Estimated Population (Number)  \\\n",
       "0                                                 4.2                  \n",
       "1                                                 4.9                  \n",
       "2                                                 8.3                  \n",
       "3                                                 4.4                  \n",
       "4                                                 3.1                  \n",
       "5                                                 5.6                  \n",
       "6                                                 8.3                  \n",
       "7                                                 4.7                  \n",
       "8                                                 3.9                  \n",
       "9                                                 4.8                  \n",
       "10                                                8.7                  \n",
       "11                                                4.4                  \n",
       "12                                                3.8                  \n",
       "13                                                4.7                  \n",
       "14                                                8.4                  \n",
       "15                                                4.8                  \n",
       "16                                                3.4                  \n",
       "17                                                5.7                  \n",
       "18                                                9.8                  \n",
       "19                                                4.8                  \n",
       "\n",
       "    Deaths Registered (Number)  \\\n",
       "0                         9399   \n",
       "1                         7882   \n",
       "2                         6950   \n",
       "3                         8427   \n",
       "4                        11883   \n",
       "5                         8251   \n",
       "6                         6703   \n",
       "7                         7711   \n",
       "8                        10367   \n",
       "9                         8732   \n",
       "10                        7021   \n",
       "11                        7523   \n",
       "12                       10262   \n",
       "13                        8681   \n",
       "14                        7105   \n",
       "15                        7510   \n",
       "16                        8863   \n",
       "17                        9067   \n",
       "18                        6882   \n",
       "19                        7661   \n",
       "\n",
       "    Death Rate Registered per 1,000 Estimated Population (Number)  \\\n",
       "0                                                13.3               \n",
       "1                                                11.1               \n",
       "2                                                 9.8               \n",
       "3                                                11.7               \n",
       "4                                                17.1               \n",
       "5                                                11.7               \n",
       "6                                                 9.8               \n",
       "7                                                10.9               \n",
       "8                                                15.3               \n",
       "9                                                12.1               \n",
       "10                                                9.9               \n",
       "11                                               10.6               \n",
       "12                                               15.1               \n",
       "13                                               11.9               \n",
       "14                                               10.0               \n",
       "15                                               10.5               \n",
       "16                                               13.0               \n",
       "17                                               12.5               \n",
       "18                                                8.5               \n",
       "19                                               10.5               \n",
       "\n",
       "    Deaths of Infants under 1 Year Registered per 1,000 Births (Number)  \\\n",
       "0                                                34.7                     \n",
       "1                                                26.8                     \n",
       "2                                                26.3                     \n",
       "3                                                29.7                     \n",
       "4                                                34.9                     \n",
       "5                                                29.0                     \n",
       "6                                                29.7                     \n",
       "7                                                29.1                     \n",
       "8                                                35.7                     \n",
       "9                                                28.6                     \n",
       "10                                               24.2                     \n",
       "11                                               28.4                     \n",
       "12                                               30.1                     \n",
       "13                                               26.3                     \n",
       "14                                               23.9                     \n",
       "15                                               26.6                     \n",
       "16                                               29.2                     \n",
       "17                                               26.1                     \n",
       "18                                               24.9                     \n",
       "19                                               27.2                     \n",
       "\n",
       "    Births Registered (Number)  \\\n",
       "0                        14614   \n",
       "1                        16494   \n",
       "2                        15612   \n",
       "3                        14010   \n",
       "4                        14692   \n",
       "5                        16264   \n",
       "6                        14895   \n",
       "7                        13975   \n",
       "8                        14875   \n",
       "9                        16657   \n",
       "10                       15719   \n",
       "11                       14360   \n",
       "12                       15177   \n",
       "13                       17064   \n",
       "14                       16043   \n",
       "15                       14682   \n",
       "16                       15049   \n",
       "17                       17351   \n",
       "18                       16491   \n",
       "19                       15117   \n",
       "\n",
       "    Birth Rate Registered per 1,000 Estimated Population (Number)  \n",
       "0                                                20.6              \n",
       "1                                                23.1              \n",
       "2                                                22.2              \n",
       "3                                                19.8              \n",
       "4                                                20.8              \n",
       "5                                                23.1              \n",
       "6                                                21.1              \n",
       "7                                                19.0              \n",
       "8                                                21.7              \n",
       "9                                                23.5              \n",
       "10                                               22.2              \n",
       "11                                               20.1              \n",
       "12                                               21.8              \n",
       "13                                               23.9              \n",
       "14                                               23.1              \n",
       "15                                               20.6              \n",
       "16                                               21.4              \n",
       "17                                               24.4              \n",
       "18                                               23.3              \n",
       "19                                               21.1              "
      ]
     },
     "execution_count": 9,
     "metadata": {},
     "output_type": "execute_result"
    }
   ],
   "source": [
    "bdm_df.head(20)"
   ]
  },
  {
   "cell_type": "code",
   "execution_count": 10,
   "metadata": {},
   "outputs": [
    {
     "data": {
      "text/plain": [
       "Index(['Quarter', 'State', 'Marriages Registered (Number)',\n",
       "       'Marriage Rate Registered per 1,000 Estimated Population (Number)',\n",
       "       'Deaths Registered (Number)',\n",
       "       'Death Rate Registered per 1,000 Estimated Population (Number)',\n",
       "       'Deaths of Infants under 1 Year Registered per 1,000 Births (Number)',\n",
       "       'Births Registered (Number)',\n",
       "       'Birth Rate Registered per 1,000 Estimated Population (Number)'],\n",
       "      dtype='object')"
      ]
     },
     "execution_count": 10,
     "metadata": {},
     "output_type": "execute_result"
    }
   ],
   "source": [
    "bdm_df.columns\n"
   ]
  },
  {
   "cell_type": "code",
   "execution_count": 11,
   "metadata": {},
   "outputs": [
    {
     "data": {
      "text/html": [
       "<div>\n",
       "<style scoped>\n",
       "    .dataframe tbody tr th:only-of-type {\n",
       "        vertical-align: middle;\n",
       "    }\n",
       "\n",
       "    .dataframe tbody tr th {\n",
       "        vertical-align: top;\n",
       "    }\n",
       "\n",
       "    .dataframe thead th {\n",
       "        text-align: right;\n",
       "    }\n",
       "</style>\n",
       "<table border=\"1\" class=\"dataframe\">\n",
       "  <thead>\n",
       "    <tr style=\"text-align: right;\">\n",
       "      <th></th>\n",
       "      <th>Quarter</th>\n",
       "      <th>State</th>\n",
       "      <th>Marriages Registered (Number)</th>\n",
       "      <th>Marriage Rate Registered per 1,000 Estimated Population (Number)</th>\n",
       "      <th>Deaths Registered (Number)</th>\n",
       "      <th>Death Rate Registered per 1,000 Estimated Population (Number)</th>\n",
       "      <th>Deaths of Infants under 1 Year Registered per 1,000 Births (Number)</th>\n",
       "      <th>Births Registered (Number)</th>\n",
       "      <th>Birth Rate Registered per 1,000 Estimated Population (Number)</th>\n",
       "    </tr>\n",
       "  </thead>\n",
       "  <tbody>\n",
       "    <tr>\n",
       "      <th>240</th>\n",
       "      <td>2020Q1</td>\n",
       "      <td>Ireland</td>\n",
       "      <td>2886</td>\n",
       "      <td>2.3</td>\n",
       "      <td>8674</td>\n",
       "      <td>7.0</td>\n",
       "      <td>2.9</td>\n",
       "      <td>14371</td>\n",
       "      <td>11.7</td>\n",
       "    </tr>\n",
       "    <tr>\n",
       "      <th>241</th>\n",
       "      <td>2020Q2</td>\n",
       "      <td>Ireland</td>\n",
       "      <td>304</td>\n",
       "      <td>0.2</td>\n",
       "      <td>8582</td>\n",
       "      <td>6.9</td>\n",
       "      <td>2.7</td>\n",
       "      <td>13527</td>\n",
       "      <td>10.9</td>\n",
       "    </tr>\n",
       "    <tr>\n",
       "      <th>242</th>\n",
       "      <td>2020Q3</td>\n",
       "      <td>Ireland</td>\n",
       "      <td>3080</td>\n",
       "      <td>2.5</td>\n",
       "      <td>7111</td>\n",
       "      <td>5.7</td>\n",
       "      <td>2.5</td>\n",
       "      <td>14477</td>\n",
       "      <td>11.6</td>\n",
       "    </tr>\n",
       "    <tr>\n",
       "      <th>243</th>\n",
       "      <td>2020Q4</td>\n",
       "      <td>Ireland</td>\n",
       "      <td>3263</td>\n",
       "      <td>2.6</td>\n",
       "      <td>7398</td>\n",
       "      <td>5.9</td>\n",
       "      <td>2.9</td>\n",
       "      <td>13584</td>\n",
       "      <td>10.9</td>\n",
       "    </tr>\n",
       "    <tr>\n",
       "      <th>244</th>\n",
       "      <td>2021Q1</td>\n",
       "      <td>Ireland</td>\n",
       "      <td>2265</td>\n",
       "      <td>1.8</td>\n",
       "      <td>9564</td>\n",
       "      <td>7.7</td>\n",
       "      <td>2.7</td>\n",
       "      <td>13895</td>\n",
       "      <td>11.2</td>\n",
       "    </tr>\n",
       "  </tbody>\n",
       "</table>\n",
       "</div>"
      ],
      "text/plain": [
       "    Quarter    State  Marriages Registered (Number)  \\\n",
       "240  2020Q1  Ireland                           2886   \n",
       "241  2020Q2  Ireland                            304   \n",
       "242  2020Q3  Ireland                           3080   \n",
       "243  2020Q4  Ireland                           3263   \n",
       "244  2021Q1  Ireland                           2265   \n",
       "\n",
       "     Marriage Rate Registered per 1,000 Estimated Population (Number)  \\\n",
       "240                                                2.3                  \n",
       "241                                                0.2                  \n",
       "242                                                2.5                  \n",
       "243                                                2.6                  \n",
       "244                                                1.8                  \n",
       "\n",
       "     Deaths Registered (Number)  \\\n",
       "240                        8674   \n",
       "241                        8582   \n",
       "242                        7111   \n",
       "243                        7398   \n",
       "244                        9564   \n",
       "\n",
       "     Death Rate Registered per 1,000 Estimated Population (Number)  \\\n",
       "240                                                7.0               \n",
       "241                                                6.9               \n",
       "242                                                5.7               \n",
       "243                                                5.9               \n",
       "244                                                7.7               \n",
       "\n",
       "     Deaths of Infants under 1 Year Registered per 1,000 Births (Number)  \\\n",
       "240                                                2.9                     \n",
       "241                                                2.7                     \n",
       "242                                                2.5                     \n",
       "243                                                2.9                     \n",
       "244                                                2.7                     \n",
       "\n",
       "     Births Registered (Number)  \\\n",
       "240                       14371   \n",
       "241                       13527   \n",
       "242                       14477   \n",
       "243                       13584   \n",
       "244                       13895   \n",
       "\n",
       "     Birth Rate Registered per 1,000 Estimated Population (Number)  \n",
       "240                                               11.7              \n",
       "241                                               10.9              \n",
       "242                                               11.6              \n",
       "243                                               10.9              \n",
       "244                                               11.2              "
      ]
     },
     "execution_count": 11,
     "metadata": {},
     "output_type": "execute_result"
    }
   ],
   "source": [
    "bdm_df.tail()"
   ]
  },
  {
   "cell_type": "markdown",
   "metadata": {},
   "source": [
    "# Insights\n",
    "\n",
    "\n",
    "##### Insight... Seven of the column names are lenghtly and require shortening by renaming them \n",
    "##### Insight... All data relates to Ireland as this is the only value in the State column\n",
    "##### Insight... This is a very clean dataset, no null values, no missing values\n",
    "##### Insight... Only  245 rows covering 61 years of data 4 quarters per year\n",
    "##### Insight... Seven of the nine columns contain numeric data great for plotting graphs\n",
    "##### Insight... Strategy is to graph the data and see if they may indicate areas of interest\n",
    "##### Insight... \n",
    "##### There is a co-relation between death rate and deaths registered\n",
    "##### There is a co-relation between marriage rate and marriage registered\n",
    "\n",
    "\n",
    "\n",
    "\n",
    "# Questions\n",
    "\n",
    "##### Question: \n",
    "##### Question: As this data is labeled quartly, does this suggest a particular graph? \n",
    "##### Question: "
   ]
  },
  {
   "cell_type": "markdown",
   "metadata": {},
   "source": [
    "##### Adjust column names"
   ]
  },
  {
   "cell_type": "code",
   "execution_count": 12,
   "metadata": {},
   "outputs": [],
   "source": [
    "# replace spaces in column names with underscore characters\n",
    "bdm_df.columns = [column.replace(\" \", \"_\") for column in bdm_df]"
   ]
  },
  {
   "cell_type": "code",
   "execution_count": 13,
   "metadata": {},
   "outputs": [
    {
     "data": {
      "text/plain": [
       "Index(['Quarter', 'State', 'Marriages_Registered_(Number)',\n",
       "       'Marriage_Rate_Registered_per_1,000_Estimated_Population_(Number)',\n",
       "       'Deaths_Registered_(Number)',\n",
       "       'Death_Rate_Registered_per_1,000_Estimated_Population_(Number)',\n",
       "       'Deaths_of_Infants_under_1_Year_Registered_per_1,000_Births_(Number)',\n",
       "       'Births_Registered_(Number)',\n",
       "       'Birth_Rate_Registered_per_1,000_Estimated_Population_(Number)'],\n",
       "      dtype='object')"
      ]
     },
     "execution_count": 13,
     "metadata": {},
     "output_type": "execute_result"
    }
   ],
   "source": [
    "# view the column names\n",
    "bdm_df.columns"
   ]
  },
  {
   "cell_type": "code",
   "execution_count": 14,
   "metadata": {},
   "outputs": [],
   "source": [
    "bdm_df.rename({'Marriages_Registered_(Number)':'Marriages_Regist','Marriage_Rate_Registered_per_1,000_Estimated_Population_(Number)':'Marriage_Rate'}, axis=1, inplace=True)\n",
    "bdm_df.rename({'Deaths_Registered_(Number)': 'Deaths_Regist','Death_Rate_Registered_per_1,000_Estimated_Population_(Number)':'Death_Rate'}, axis=1, inplace=True)\n",
    "bdm_df.rename({'Deaths_of_Infants_under_1_Year_Registered_per_1,000_Births_(Number)': 'Death_of_Infants'}, axis=1, inplace=True)\n",
    "bdm_df.rename({'Births_Registered_(Number)':'Births_Regist','Birth_Rate_Registered_per_1,000_Estimated_Population_(Number)':'Birth_Rate'}, axis=1, inplace=True)\n",
    "       "
   ]
  },
  {
   "cell_type": "code",
   "execution_count": 15,
   "metadata": {},
   "outputs": [
    {
     "data": {
      "text/html": [
       "<div>\n",
       "<style scoped>\n",
       "    .dataframe tbody tr th:only-of-type {\n",
       "        vertical-align: middle;\n",
       "    }\n",
       "\n",
       "    .dataframe tbody tr th {\n",
       "        vertical-align: top;\n",
       "    }\n",
       "\n",
       "    .dataframe thead th {\n",
       "        text-align: right;\n",
       "    }\n",
       "</style>\n",
       "<table border=\"1\" class=\"dataframe\">\n",
       "  <thead>\n",
       "    <tr style=\"text-align: right;\">\n",
       "      <th></th>\n",
       "      <th>Quarter</th>\n",
       "      <th>State</th>\n",
       "      <th>Marriages_Regist</th>\n",
       "      <th>Marriage_Rate</th>\n",
       "      <th>Deaths_Regist</th>\n",
       "      <th>Death_Rate</th>\n",
       "      <th>Death_of_Infants</th>\n",
       "      <th>Births_Regist</th>\n",
       "      <th>Birth_Rate</th>\n",
       "    </tr>\n",
       "  </thead>\n",
       "  <tbody>\n",
       "    <tr>\n",
       "      <th>0</th>\n",
       "      <td>1960Q1</td>\n",
       "      <td>Ireland</td>\n",
       "      <td>2987</td>\n",
       "      <td>4.2</td>\n",
       "      <td>9399</td>\n",
       "      <td>13.3</td>\n",
       "      <td>34.7</td>\n",
       "      <td>14614</td>\n",
       "      <td>20.6</td>\n",
       "    </tr>\n",
       "    <tr>\n",
       "      <th>1</th>\n",
       "      <td>1960Q2</td>\n",
       "      <td>Ireland</td>\n",
       "      <td>3501</td>\n",
       "      <td>4.9</td>\n",
       "      <td>7882</td>\n",
       "      <td>11.1</td>\n",
       "      <td>26.8</td>\n",
       "      <td>16494</td>\n",
       "      <td>23.1</td>\n",
       "    </tr>\n",
       "    <tr>\n",
       "      <th>2</th>\n",
       "      <td>1960Q3</td>\n",
       "      <td>Ireland</td>\n",
       "      <td>5900</td>\n",
       "      <td>8.3</td>\n",
       "      <td>6950</td>\n",
       "      <td>9.8</td>\n",
       "      <td>26.3</td>\n",
       "      <td>15612</td>\n",
       "      <td>22.2</td>\n",
       "    </tr>\n",
       "    <tr>\n",
       "      <th>3</th>\n",
       "      <td>1960Q4</td>\n",
       "      <td>Ireland</td>\n",
       "      <td>3106</td>\n",
       "      <td>4.4</td>\n",
       "      <td>8427</td>\n",
       "      <td>11.7</td>\n",
       "      <td>29.7</td>\n",
       "      <td>14010</td>\n",
       "      <td>19.8</td>\n",
       "    </tr>\n",
       "    <tr>\n",
       "      <th>4</th>\n",
       "      <td>1961Q1</td>\n",
       "      <td>Ireland</td>\n",
       "      <td>2179</td>\n",
       "      <td>3.1</td>\n",
       "      <td>11883</td>\n",
       "      <td>17.1</td>\n",
       "      <td>34.9</td>\n",
       "      <td>14692</td>\n",
       "      <td>20.8</td>\n",
       "    </tr>\n",
       "  </tbody>\n",
       "</table>\n",
       "</div>"
      ],
      "text/plain": [
       "  Quarter    State  Marriages_Regist  Marriage_Rate  Deaths_Regist  \\\n",
       "0  1960Q1  Ireland              2987            4.2           9399   \n",
       "1  1960Q2  Ireland              3501            4.9           7882   \n",
       "2  1960Q3  Ireland              5900            8.3           6950   \n",
       "3  1960Q4  Ireland              3106            4.4           8427   \n",
       "4  1961Q1  Ireland              2179            3.1          11883   \n",
       "\n",
       "   Death_Rate  Death_of_Infants  Births_Regist  Birth_Rate  \n",
       "0        13.3              34.7          14614        20.6  \n",
       "1        11.1              26.8          16494        23.1  \n",
       "2         9.8              26.3          15612        22.2  \n",
       "3        11.7              29.7          14010        19.8  \n",
       "4        17.1              34.9          14692        20.8  "
      ]
     },
     "execution_count": 15,
     "metadata": {},
     "output_type": "execute_result"
    }
   ],
   "source": [
    "#check out how the shortened column names are viewed\n",
    "bdm_df.head()"
   ]
  },
  {
   "cell_type": "markdown",
   "metadata": {},
   "source": [
    "##### More Exploratory Data Analysis"
   ]
  },
  {
   "cell_type": "code",
   "execution_count": 16,
   "metadata": {},
   "outputs": [
    {
     "name": "stdout",
     "output_type": "stream",
     "text": [
      "Quarter\t\t\t:  245\n",
      "State\t\t\t:  1\n",
      "Marriages_Regist\t:  239\n",
      "Marriage_Rate\t\t:  77\n",
      "Deaths_Registered\t:  236\n",
      "Death_Rate\t\t:  76\n",
      "Death_of_Infants\t:  135\n",
      "B_Registered\t:  237\n"
     ]
    }
   ],
   "source": [
    "# Check out the unique values in each column\n",
    "print(\"Quarter\\t\\t\\t: \",bdm_df.Quarter.nunique())\n",
    "print(\"State\\t\\t\\t: \",bdm_df.State.nunique())\n",
    "print(\"Marriages_Regist\\t: \",bdm_df.Marriages_Regist.nunique())\n",
    "print(\"Marriage_Rate\\t\\t: \",bdm_df.Marriage_Rate.nunique())\n",
    "print(\"Deaths_Registered\\t: \",bdm_df.Deaths_Regist.nunique())\n",
    "print(\"Death_Rate\\t\\t: \",bdm_df.Death_Rate.nunique())\n",
    "print(\"Death_of_Infants\\t: \",bdm_df.Death_of_Infants.nunique())\n",
    "print(\"B_Registered\\t: \",bdm_df.Births_Regist.nunique())\n",
    "#print(\"\\t\\t: \",bdm_df..nunique())\n",
    "#print(\"\\t\\t: \",bdm_df..nunique())"
   ]
  },
  {
   "cell_type": "code",
   "execution_count": 17,
   "metadata": {},
   "outputs": [
    {
     "data": {
      "text/plain": [
       "0"
      ]
     },
     "execution_count": 17,
     "metadata": {},
     "output_type": "execute_result"
    }
   ],
   "source": [
    "# Are there any duplications\n",
    "bdm_df.duplicated().sum()"
   ]
  },
  {
   "cell_type": "markdown",
   "metadata": {},
   "source": [
    "##### Drop a few columns"
   ]
  },
  {
   "cell_type": "code",
   "execution_count": 18,
   "metadata": {},
   "outputs": [],
   "source": [
    "# Drop any rows of no interest at the moment\n",
    "bdm_df = bdm_df.drop(['State','Marriages_Regist','Marriage_Rate'],axis = 1)"
   ]
  },
  {
   "cell_type": "code",
   "execution_count": 19,
   "metadata": {},
   "outputs": [
    {
     "data": {
      "text/html": [
       "<div>\n",
       "<style scoped>\n",
       "    .dataframe tbody tr th:only-of-type {\n",
       "        vertical-align: middle;\n",
       "    }\n",
       "\n",
       "    .dataframe tbody tr th {\n",
       "        vertical-align: top;\n",
       "    }\n",
       "\n",
       "    .dataframe thead th {\n",
       "        text-align: right;\n",
       "    }\n",
       "</style>\n",
       "<table border=\"1\" class=\"dataframe\">\n",
       "  <thead>\n",
       "    <tr style=\"text-align: right;\">\n",
       "      <th></th>\n",
       "      <th>Quarter</th>\n",
       "      <th>Deaths_Regist</th>\n",
       "      <th>Death_Rate</th>\n",
       "      <th>Death_of_Infants</th>\n",
       "      <th>Births_Regist</th>\n",
       "      <th>Birth_Rate</th>\n",
       "    </tr>\n",
       "  </thead>\n",
       "  <tbody>\n",
       "    <tr>\n",
       "      <th>0</th>\n",
       "      <td>1960Q1</td>\n",
       "      <td>9399</td>\n",
       "      <td>13.3</td>\n",
       "      <td>34.7</td>\n",
       "      <td>14614</td>\n",
       "      <td>20.6</td>\n",
       "    </tr>\n",
       "    <tr>\n",
       "      <th>1</th>\n",
       "      <td>1960Q2</td>\n",
       "      <td>7882</td>\n",
       "      <td>11.1</td>\n",
       "      <td>26.8</td>\n",
       "      <td>16494</td>\n",
       "      <td>23.1</td>\n",
       "    </tr>\n",
       "    <tr>\n",
       "      <th>2</th>\n",
       "      <td>1960Q3</td>\n",
       "      <td>6950</td>\n",
       "      <td>9.8</td>\n",
       "      <td>26.3</td>\n",
       "      <td>15612</td>\n",
       "      <td>22.2</td>\n",
       "    </tr>\n",
       "    <tr>\n",
       "      <th>3</th>\n",
       "      <td>1960Q4</td>\n",
       "      <td>8427</td>\n",
       "      <td>11.7</td>\n",
       "      <td>29.7</td>\n",
       "      <td>14010</td>\n",
       "      <td>19.8</td>\n",
       "    </tr>\n",
       "    <tr>\n",
       "      <th>4</th>\n",
       "      <td>1961Q1</td>\n",
       "      <td>11883</td>\n",
       "      <td>17.1</td>\n",
       "      <td>34.9</td>\n",
       "      <td>14692</td>\n",
       "      <td>20.8</td>\n",
       "    </tr>\n",
       "    <tr>\n",
       "      <th>...</th>\n",
       "      <td>...</td>\n",
       "      <td>...</td>\n",
       "      <td>...</td>\n",
       "      <td>...</td>\n",
       "      <td>...</td>\n",
       "      <td>...</td>\n",
       "    </tr>\n",
       "    <tr>\n",
       "      <th>240</th>\n",
       "      <td>2020Q1</td>\n",
       "      <td>8674</td>\n",
       "      <td>7.0</td>\n",
       "      <td>2.9</td>\n",
       "      <td>14371</td>\n",
       "      <td>11.7</td>\n",
       "    </tr>\n",
       "    <tr>\n",
       "      <th>241</th>\n",
       "      <td>2020Q2</td>\n",
       "      <td>8582</td>\n",
       "      <td>6.9</td>\n",
       "      <td>2.7</td>\n",
       "      <td>13527</td>\n",
       "      <td>10.9</td>\n",
       "    </tr>\n",
       "    <tr>\n",
       "      <th>242</th>\n",
       "      <td>2020Q3</td>\n",
       "      <td>7111</td>\n",
       "      <td>5.7</td>\n",
       "      <td>2.5</td>\n",
       "      <td>14477</td>\n",
       "      <td>11.6</td>\n",
       "    </tr>\n",
       "    <tr>\n",
       "      <th>243</th>\n",
       "      <td>2020Q4</td>\n",
       "      <td>7398</td>\n",
       "      <td>5.9</td>\n",
       "      <td>2.9</td>\n",
       "      <td>13584</td>\n",
       "      <td>10.9</td>\n",
       "    </tr>\n",
       "    <tr>\n",
       "      <th>244</th>\n",
       "      <td>2021Q1</td>\n",
       "      <td>9564</td>\n",
       "      <td>7.7</td>\n",
       "      <td>2.7</td>\n",
       "      <td>13895</td>\n",
       "      <td>11.2</td>\n",
       "    </tr>\n",
       "  </tbody>\n",
       "</table>\n",
       "<p>245 rows × 6 columns</p>\n",
       "</div>"
      ],
      "text/plain": [
       "    Quarter  Deaths_Regist  Death_Rate  Death_of_Infants  Births_Regist  \\\n",
       "0    1960Q1           9399        13.3              34.7          14614   \n",
       "1    1960Q2           7882        11.1              26.8          16494   \n",
       "2    1960Q3           6950         9.8              26.3          15612   \n",
       "3    1960Q4           8427        11.7              29.7          14010   \n",
       "4    1961Q1          11883        17.1              34.9          14692   \n",
       "..      ...            ...         ...               ...            ...   \n",
       "240  2020Q1           8674         7.0               2.9          14371   \n",
       "241  2020Q2           8582         6.9               2.7          13527   \n",
       "242  2020Q3           7111         5.7               2.5          14477   \n",
       "243  2020Q4           7398         5.9               2.9          13584   \n",
       "244  2021Q1           9564         7.7               2.7          13895   \n",
       "\n",
       "     Birth_Rate  \n",
       "0          20.6  \n",
       "1          23.1  \n",
       "2          22.2  \n",
       "3          19.8  \n",
       "4          20.8  \n",
       "..          ...  \n",
       "240        11.7  \n",
       "241        10.9  \n",
       "242        11.6  \n",
       "243        10.9  \n",
       "244        11.2  \n",
       "\n",
       "[245 rows x 6 columns]"
      ]
     },
     "execution_count": 19,
     "metadata": {},
     "output_type": "execute_result"
    }
   ],
   "source": [
    "bdm_df"
   ]
  },
  {
   "cell_type": "code",
   "execution_count": 20,
   "metadata": {},
   "outputs": [
    {
     "data": {
      "text/plain": [
       "Index(['Quarter', 'Deaths_Regist', 'Death_Rate', 'Death_of_Infants',\n",
       "       'Births_Regist', 'Birth_Rate'],\n",
       "      dtype='object')"
      ]
     },
     "execution_count": 20,
     "metadata": {},
     "output_type": "execute_result"
    }
   ],
   "source": [
    "bdm_df.columns"
   ]
  },
  {
   "cell_type": "markdown",
   "metadata": {},
   "source": [
    "##### Checking numbers in each column"
   ]
  },
  {
   "cell_type": "code",
   "execution_count": 21,
   "metadata": {},
   "outputs": [
    {
     "data": {
      "text/plain": [
       "Quarter             245\n",
       "Deaths_Regist       245\n",
       "Death_Rate          245\n",
       "Death_of_Infants    245\n",
       "Births_Regist       245\n",
       "Birth_Rate          245\n",
       "dtype: int64"
      ]
     },
     "execution_count": 21,
     "metadata": {},
     "output_type": "execute_result"
    }
   ],
   "source": [
    "# count to compare values in each column in dataset\n",
    "bdm_df.count()"
   ]
  },
  {
   "cell_type": "code",
   "execution_count": 22,
   "metadata": {},
   "outputs": [
    {
     "data": {
      "text/plain": [
       "Quarter             0\n",
       "Deaths_Regist       0\n",
       "Death_Rate          0\n",
       "Death_of_Infants    0\n",
       "Births_Regist       0\n",
       "Birth_Rate          0\n",
       "dtype: int64"
      ]
     },
     "execution_count": 22,
     "metadata": {},
     "output_type": "execute_result"
    }
   ],
   "source": [
    "# checking for null values in dataset\n",
    "bdm_df.isnull().sum()"
   ]
  },
  {
   "cell_type": "markdown",
   "metadata": {},
   "source": [
    "##### lets try plotting from here \n",
    "##### before doing any more data cleaning"
   ]
  },
  {
   "cell_type": "code",
   "execution_count": 23,
   "metadata": {},
   "outputs": [],
   "source": [
    "%matplotlib inline\n",
    "import numpy as np\n",
    "from numpy.random import randn\n",
    "import pandas as pd\n",
    "from scipy import stats\n",
    "import matplotlib as mpl\n",
    "import matplotlib.pyplot as plt\n",
    "import seaborn as sns\n"
   ]
  },
  {
   "cell_type": "code",
   "execution_count": 24,
   "metadata": {},
   "outputs": [
    {
     "data": {
      "text/plain": [
       "Index(['Quarter', 'Deaths_Regist', 'Death_Rate', 'Death_of_Infants',\n",
       "       'Births_Regist', 'Birth_Rate'],\n",
       "      dtype='object')"
      ]
     },
     "execution_count": 24,
     "metadata": {},
     "output_type": "execute_result"
    }
   ],
   "source": [
    "bdm_df.columns"
   ]
  },
  {
   "cell_type": "markdown",
   "metadata": {},
   "source": [
    "##### Pair plot is a good start, checking out everything against everything"
   ]
  },
  {
   "cell_type": "code",
   "execution_count": 25,
   "metadata": {},
   "outputs": [
    {
     "data": {
      "image/png": "[encoded data removed]",
      "text/plain": [
       "<Figure size 900x900 with 30 Axes>"
      ]
     },
     "metadata": {},
     "output_type": "display_data"
    }
   ],
   "source": [
    "\n",
    "# Set the style for the plot using swaborn library\n",
    "sns.set(style='whitegrid', context='notebook')\n",
    "\n",
    "# Consider the following columns from the entire dataset\n",
    "cols = ['Deaths_Regist', 'Death_Rate', 'Death_of_Infants', 'Births_Regist', 'Birth_Rate']\n",
    "\n",
    "# Display the pairplot using the above-mentioned columns\n",
    "sns.pairplot(bdm_df[cols], height = 2.5)\n",
    "\n",
    "plt.tight_layout()\n",
    "\n",
    "# plt.savefig('./figures/scatter.png', dpi=300)\n",
    "plt.show()"
   ]
  },
  {
   "cell_type": "code",
   "execution_count": 26,
   "metadata": {},
   "outputs": [],
   "source": [
    "#fig = sns.kdeplot(x=bdm_df['Death_of_Infants'],y=bdm_df['Death_Rate'], shade=True, cut =0, clip=(0,2000))\n",
    "#fig = sns.kdeplot(y=bdm_df['Death_of_Infants'], shade=True, cut =0, clip=(0,2000))\n",
    "\n",
    "#fig.figure.suptitle(\"Death Rate against Death of Infants\", fontsize = 14)\n",
    "\n",
    "#plt.xlabel('Death_of_Infants', fontsize=12)\n",
    "#plt.ylabel('Death Rate', fontsize=12)"
   ]
  },
  {
   "cell_type": "markdown",
   "metadata": {},
   "source": [
    "##### Now a heatmap"
   ]
  },
  {
   "cell_type": "code",
   "execution_count": 27,
   "metadata": {},
   "outputs": [
    {
     "data": {
      "image/png": "[encoded data removed]",
      "text/plain": [
       "<Figure size 432x288 with 2 Axes>"
      ]
     },
     "metadata": {},
     "output_type": "display_data"
    }
   ],
   "source": [
    "import numpy as np\n",
    "\n",
    "# Initialise an object (cm) using np object\n",
    "cm = np.corrcoef(bdm_df[cols].values.T)\n",
    "\n",
    "# Set the font size of the plot\n",
    "sns.set(font_scale = 1.1)\n",
    "\n",
    "hm = sns.heatmap(cm, \n",
    "            cbar=True,\n",
    "            annot=True, \n",
    "            square=True,\n",
    "            fmt='.2f',\n",
    "            annot_kws={'size': 13},\n",
    "            yticklabels=cols,\n",
    "            xticklabels=cols)\n",
    "9\n",
    "plt.tight_layout()\n",
    "# plt.savefig('./figures/corr_mat.png', dpi=300)\n",
    "plt.show()"
   ]
  },
  {
   "cell_type": "code",
   "execution_count": 28,
   "metadata": {},
   "outputs": [],
   "source": [
    "sns.reset_orig()\n",
    "%matplotlib inline"
   ]
  },
  {
   "cell_type": "markdown",
   "metadata": {},
   "source": [
    "##### Outliers"
   ]
  },
  {
   "cell_type": "code",
   "execution_count": 29,
   "metadata": {},
   "outputs": [],
   "source": [
    "col_dict = {'Deaths_Regist':1, 'Death_Rate':2, 'Death_of_Infants':3,'Births_Regist':4, 'Birth_Rate':5}"
   ]
  },
  {
   "cell_type": "code",
   "execution_count": 30,
   "metadata": {},
   "outputs": [
    {
     "name": "stdout",
     "output_type": "stream",
     "text": [
      "<class 'pandas.core.frame.DataFrame'>\n",
      "RangeIndex: 245 entries, 0 to 244\n",
      "Data columns (total 6 columns):\n",
      " #   Column            Non-Null Count  Dtype  \n",
      "---  ------            --------------  -----  \n",
      " 0   Quarter           245 non-null    object \n",
      " 1   Deaths_Regist     245 non-null    int64  \n",
      " 2   Death_Rate        245 non-null    float64\n",
      " 3   Death_of_Infants  245 non-null    float64\n",
      " 4   Births_Regist     245 non-null    int64  \n",
      " 5   Birth_Rate        245 non-null    float64\n",
      "dtypes: float64(3), int64(2), object(1)\n",
      "memory usage: 11.6+ KB\n"
     ]
    }
   ],
   "source": [
    "bdm_df.info()\n"
   ]
  },
  {
   "cell_type": "code",
   "execution_count": 31,
   "metadata": {},
   "outputs": [
    {
     "data": {
      "image/png": "[encoded data removed]",
      "text/plain": [
       "<Figure size 1440x2160 with 5 Axes>"
      ]
     },
     "metadata": {
      "needs_background": "light"
     },
     "output_type": "display_data"
    }
   ],
   "source": [
    "plt.figure(figsize=(20,30))\n",
    "\n",
    "for variable,i in col_dict.items():\n",
    "                     plt.subplot(5,3,i)\n",
    "                     plt.boxplot(bdm_df[variable],whis=1.5)\n",
    "                     plt.title(variable)\n",
    "\n",
    "plt.show()"
   ]
  },
  {
   "cell_type": "markdown",
   "metadata": {},
   "source": [
    "#### Examine correlations\n"
   ]
  },
  {
   "cell_type": "code",
   "execution_count": 32,
   "metadata": {},
   "outputs": [
    {
     "name": "stdout",
     "output_type": "stream",
     "text": [
      "                  Deaths_Regist  Death_Rate  Death_of_Infants  Births_Regist  \\\n",
      "Deaths_Regist          1.000000    0.779719          0.409407       0.005561   \n",
      "Death_Rate             0.779719    1.000000          0.835148      -0.036520   \n",
      "Death_of_Infants       0.409407    0.835148          1.000000       0.071725   \n",
      "Births_Regist          0.005561   -0.036520          0.071725       1.000000   \n",
      "Birth_Rate             0.329324    0.707665          0.806798       0.534775   \n",
      "\n",
      "                  Birth_Rate  \n",
      "Deaths_Regist       0.329324  \n",
      "Death_Rate          0.707665  \n",
      "Death_of_Infants    0.806798  \n",
      "Births_Regist       0.534775  \n",
      "Birth_Rate          1.000000  \n"
     ]
    }
   ],
   "source": [
    "correlation = bdm_df.corr()\n",
    "print(correlation)"
   ]
  },
  {
   "cell_type": "code",
   "execution_count": 33,
   "metadata": {},
   "outputs": [
    {
     "data": {
      "text/plain": [
       "<AxesSubplot:>"
      ]
     },
     "execution_count": 33,
     "metadata": {},
     "output_type": "execute_result"
    },
    {
     "data": {
      "image/png": "[encoded data removed]",
      "text/plain": [
       "<Figure size 576x432 with 2 Axes>"
      ]
     },
     "metadata": {
      "needs_background": "light"
     },
     "output_type": "display_data"
    }
   ],
   "source": [
    "plt.figure(figsize=(8,6))\n",
    "sns.heatmap(correlation,annot=True,linecolor=\"blue\",lw=0.5)"
   ]
  },
  {
   "cell_type": "markdown",
   "metadata": {},
   "source": [
    "##### Import winsorize library from scipy.stats.mstats"
   ]
  },
  {
   "cell_type": "code",
   "execution_count": 34,
   "metadata": {},
   "outputs": [],
   "source": [
    "from scipy.stats.mstats import winsorize"
   ]
  },
  {
   "cell_type": "markdown",
   "metadata": {},
   "source": [
    "##### This function is applied to reduce the effect of  - - - - -  possible spurious outliers  - - - - -  by limiting the extreme values."
   ]
  },
  {
   "cell_type": "code",
   "execution_count": 35,
   "metadata": {},
   "outputs": [
    {
     "data": {
      "image/png": "[encoded data removed]",
      "text/plain": [
       "<Figure size 1440x2160 with 5 Axes>"
      ]
     },
     "metadata": {
      "needs_background": "light"
     },
     "output_type": "display_data"
    }
   ],
   "source": [
    "plt.figure(figsize=(20,30))\n",
    "\n",
    "plt.subplot(5,4,1)\n",
    "winsorized_Deaths_Regist = winsorize(bdm_df['Deaths_Regist'])\n",
    "plt.boxplot(winsorized_Deaths_Regist)\n",
    "plt.title(\"winsorized_Deaths_Regist\")\n",
    "\n",
    "plt.subplot(5,4,2)\n",
    "winsorized_Death_Rate = winsorize(bdm_df['Death_Rate'])\n",
    "plt.boxplot(winsorized_Death_Rate)\n",
    "plt.title(\"winsorized_Death_Rate\")\n",
    "\n",
    "plt.subplot(5,4,3)\n",
    "winsorized_Death_of_Infants = winsorize(bdm_df['Death_of_Infants'])\n",
    "plt.boxplot(winsorized_Death_of_Infants)\n",
    "plt.title(\"winsorized_Death_of_Infants\")\n",
    "\n",
    "plt.subplot(5,4,4)\n",
    "winsorized_Births_Regist = winsorize(bdm_df['Births_Regist'])\n",
    "plt.boxplot(winsorized_Births_Regist)\n",
    "plt.title(\"winsorized_Births_Regist\")\n",
    "\n",
    "plt.subplot(5,4,5)\n",
    "winsorized_Birth_Rate = winsorize(bdm_df['Birth_Rate'],(0,0.12))\n",
    "plt.boxplot(winsorized_Birth_Rate)\n",
    "plt.title(\"winsorized_Birth_Rate\")\n",
    "\n",
    "plt.show()"
   ]
  },
  {
   "cell_type": "code",
   "execution_count": 36,
   "metadata": {},
   "outputs": [
    {
     "data": {
      "text/plain": [
       "array(['Quarter', 'Deaths_Regist', 'Death_Rate', 'Death_of_Infants',\n",
       "       'Births_Regist', 'Birth_Rate'], dtype=object)"
      ]
     },
     "execution_count": 36,
     "metadata": {},
     "output_type": "execute_result"
    }
   ],
   "source": [
    "bdm_df.columns.values"
   ]
  },
  {
   "cell_type": "code",
   "execution_count": 37,
   "metadata": {},
   "outputs": [],
   "source": [
    "# Store the updated values of the columns into already existed dataframe\n",
    "bdm_df['Deaths_Regist'] = winsorized_Deaths_Regist\n",
    "bdm_df['Death_Rate'] = winsorized_Death_Rate\n",
    "bdm_df['Death_of_Infants'] = winsorized_Death_of_Infants\n",
    "bdm_df['Births_Regist'] = winsorized_Births_Regist\n",
    "bdm_df['Birth_Rate'] = winsorized_Birth_Rate\n"
   ]
  },
  {
   "cell_type": "code",
   "execution_count": 38,
   "metadata": {},
   "outputs": [
    {
     "data": {
      "text/html": [
       "<div>\n",
       "<style scoped>\n",
       "    .dataframe tbody tr th:only-of-type {\n",
       "        vertical-align: middle;\n",
       "    }\n",
       "\n",
       "    .dataframe tbody tr th {\n",
       "        vertical-align: top;\n",
       "    }\n",
       "\n",
       "    .dataframe thead th {\n",
       "        text-align: right;\n",
       "    }\n",
       "</style>\n",
       "<table border=\"1\" class=\"dataframe\">\n",
       "  <thead>\n",
       "    <tr style=\"text-align: right;\">\n",
       "      <th></th>\n",
       "      <th>Quarter</th>\n",
       "    </tr>\n",
       "  </thead>\n",
       "  <tbody>\n",
       "    <tr>\n",
       "      <th>count</th>\n",
       "      <td>245</td>\n",
       "    </tr>\n",
       "    <tr>\n",
       "      <th>unique</th>\n",
       "      <td>245</td>\n",
       "    </tr>\n",
       "    <tr>\n",
       "      <th>top</th>\n",
       "      <td>2009Q3</td>\n",
       "    </tr>\n",
       "    <tr>\n",
       "      <th>freq</th>\n",
       "      <td>1</td>\n",
       "    </tr>\n",
       "  </tbody>\n",
       "</table>\n",
       "</div>"
      ],
      "text/plain": [
       "       Quarter\n",
       "count      245\n",
       "unique     245\n",
       "top     2009Q3\n",
       "freq         1"
      ]
     },
     "execution_count": 38,
     "metadata": {},
     "output_type": "execute_result"
    }
   ],
   "source": [
    "# Display the columns that have an 'Object' datatype\n",
    "bdm_df.describe(include = 'O')"
   ]
  },
  {
   "cell_type": "code",
   "execution_count": 39,
   "metadata": {},
   "outputs": [
    {
     "data": {
      "image/png": "[encoded data removed]",
      "text/plain": [
       "<Figure size 432x432 with 1 Axes>"
      ]
     },
     "metadata": {
      "needs_background": "light"
     },
     "output_type": "display_data"
    }
   ],
   "source": [
    "plt.figure(figsize=(6,6))\n",
    "plt.bar(bdm_df.groupby('Death_Rate')['Death_Rate'].count().index,bdm_df.groupby('Death_Rate')['Death_of_Infants'].mean())\n",
    "\n",
    "plt.xlabel(\"Death_Rate\",fontsize=12)\n",
    "plt.ylabel(\"Avg Death_of_Infants\",fontsize=12)\n",
    "plt.title(\"Death_of_Infants - Death_Rate\")\n",
    "plt.show()"
   ]
  },
  {
   "cell_type": "code",
   "execution_count": 40,
   "metadata": {},
   "outputs": [
    {
     "data": {
      "image/png": "[encoded data removed]",
      "text/plain": [
       "<Figure size 3600x1080 with 1 Axes>"
      ]
     },
     "metadata": {
      "needs_background": "light"
     },
     "output_type": "display_data"
    }
   ],
   "source": [
    "deathRateDeathOfInfants = bdm_df.groupby('Death_Rate')['Death_of_Infants'].mean().sort_values(ascending=True)\n",
    "deathRateDeathOfInfants.plot(kind='bar', figsize=(50,15), fontsize=30)\n",
    "\n",
    "plt.title(\"Death of Infants - Death Rate\",fontsize=60)\n",
    "plt.xlabel(\"Death Rate\",fontsize=45)\n",
    "plt.ylabel(\"Avg Death of Infants\",fontsize=45)\n",
    "\n",
    "plt.show()"
   ]
  },
  {
   "cell_type": "code",
   "execution_count": 41,
   "metadata": {},
   "outputs": [
    {
     "data": {
      "text/html": [
       "<div>\n",
       "<style scoped>\n",
       "    .dataframe tbody tr th:only-of-type {\n",
       "        vertical-align: middle;\n",
       "    }\n",
       "\n",
       "    .dataframe tbody tr th {\n",
       "        vertical-align: top;\n",
       "    }\n",
       "\n",
       "    .dataframe thead th {\n",
       "        text-align: right;\n",
       "    }\n",
       "</style>\n",
       "<table border=\"1\" class=\"dataframe\">\n",
       "  <thead>\n",
       "    <tr style=\"text-align: right;\">\n",
       "      <th></th>\n",
       "      <th>Quarter</th>\n",
       "      <th>Deaths_Regist</th>\n",
       "      <th>Death_Rate</th>\n",
       "      <th>Death_of_Infants</th>\n",
       "      <th>Births_Regist</th>\n",
       "      <th>Birth_Rate</th>\n",
       "    </tr>\n",
       "  </thead>\n",
       "  <tbody>\n",
       "    <tr>\n",
       "      <th>0</th>\n",
       "      <td>1960Q1</td>\n",
       "      <td>9399</td>\n",
       "      <td>13.3</td>\n",
       "      <td>34.7</td>\n",
       "      <td>14614</td>\n",
       "      <td>20.6</td>\n",
       "    </tr>\n",
       "    <tr>\n",
       "      <th>1</th>\n",
       "      <td>1960Q2</td>\n",
       "      <td>7882</td>\n",
       "      <td>11.1</td>\n",
       "      <td>26.8</td>\n",
       "      <td>16494</td>\n",
       "      <td>22.2</td>\n",
       "    </tr>\n",
       "    <tr>\n",
       "      <th>2</th>\n",
       "      <td>1960Q3</td>\n",
       "      <td>6950</td>\n",
       "      <td>9.8</td>\n",
       "      <td>26.3</td>\n",
       "      <td>15612</td>\n",
       "      <td>22.2</td>\n",
       "    </tr>\n",
       "    <tr>\n",
       "      <th>3</th>\n",
       "      <td>1960Q4</td>\n",
       "      <td>8427</td>\n",
       "      <td>11.7</td>\n",
       "      <td>29.7</td>\n",
       "      <td>14010</td>\n",
       "      <td>19.8</td>\n",
       "    </tr>\n",
       "    <tr>\n",
       "      <th>4</th>\n",
       "      <td>1961Q1</td>\n",
       "      <td>11883</td>\n",
       "      <td>17.1</td>\n",
       "      <td>34.9</td>\n",
       "      <td>14692</td>\n",
       "      <td>20.8</td>\n",
       "    </tr>\n",
       "  </tbody>\n",
       "</table>\n",
       "</div>"
      ],
      "text/plain": [
       "  Quarter  Deaths_Regist  Death_Rate  Death_of_Infants  Births_Regist  \\\n",
       "0  1960Q1           9399        13.3              34.7          14614   \n",
       "1  1960Q2           7882        11.1              26.8          16494   \n",
       "2  1960Q3           6950         9.8              26.3          15612   \n",
       "3  1960Q4           8427        11.7              29.7          14010   \n",
       "4  1961Q1          11883        17.1              34.9          14692   \n",
       "\n",
       "   Birth_Rate  \n",
       "0        20.6  \n",
       "1        22.2  \n",
       "2        22.2  \n",
       "3        19.8  \n",
       "4        20.8  "
      ]
     },
     "execution_count": 41,
     "metadata": {},
     "output_type": "execute_result"
    }
   ],
   "source": [
    "bdm_df.head()"
   ]
  },
  {
   "cell_type": "code",
   "execution_count": 42,
   "metadata": {},
   "outputs": [],
   "source": [
    "# create a new column called year populated with a slice of the first 4 char from Quarter\n",
    "bdm_df['Year']=bdm_df['Quarter'].str.slice(stop=4)"
   ]
  },
  {
   "cell_type": "code",
   "execution_count": 43,
   "metadata": {},
   "outputs": [],
   "source": [
    "# replace the 'Quarter' column with the last char from that column\n",
    "bdm_df['Quarter']=bdm_df['Quarter'].str.slice(start=-1)"
   ]
  },
  {
   "cell_type": "code",
   "execution_count": 44,
   "metadata": {},
   "outputs": [],
   "source": [
    "first_col=bdm_df.pop('Year')\n",
    "bdm_df.insert(0, 'Year', first_col)"
   ]
  },
  {
   "cell_type": "code",
   "execution_count": 45,
   "metadata": {},
   "outputs": [
    {
     "data": {
      "text/html": [
       "<div>\n",
       "<style scoped>\n",
       "    .dataframe tbody tr th:only-of-type {\n",
       "        vertical-align: middle;\n",
       "    }\n",
       "\n",
       "    .dataframe tbody tr th {\n",
       "        vertical-align: top;\n",
       "    }\n",
       "\n",
       "    .dataframe thead th {\n",
       "        text-align: right;\n",
       "    }\n",
       "</style>\n",
       "<table border=\"1\" class=\"dataframe\">\n",
       "  <thead>\n",
       "    <tr style=\"text-align: right;\">\n",
       "      <th></th>\n",
       "      <th>Year</th>\n",
       "      <th>Quarter</th>\n",
       "      <th>Deaths_Regist</th>\n",
       "      <th>Death_Rate</th>\n",
       "      <th>Death_of_Infants</th>\n",
       "      <th>Births_Regist</th>\n",
       "      <th>Birth_Rate</th>\n",
       "    </tr>\n",
       "  </thead>\n",
       "  <tbody>\n",
       "    <tr>\n",
       "      <th>0</th>\n",
       "      <td>1960</td>\n",
       "      <td>1</td>\n",
       "      <td>9399</td>\n",
       "      <td>13.3</td>\n",
       "      <td>34.7</td>\n",
       "      <td>14614</td>\n",
       "      <td>20.6</td>\n",
       "    </tr>\n",
       "    <tr>\n",
       "      <th>1</th>\n",
       "      <td>1960</td>\n",
       "      <td>2</td>\n",
       "      <td>7882</td>\n",
       "      <td>11.1</td>\n",
       "      <td>26.8</td>\n",
       "      <td>16494</td>\n",
       "      <td>22.2</td>\n",
       "    </tr>\n",
       "    <tr>\n",
       "      <th>2</th>\n",
       "      <td>1960</td>\n",
       "      <td>3</td>\n",
       "      <td>6950</td>\n",
       "      <td>9.8</td>\n",
       "      <td>26.3</td>\n",
       "      <td>15612</td>\n",
       "      <td>22.2</td>\n",
       "    </tr>\n",
       "    <tr>\n",
       "      <th>3</th>\n",
       "      <td>1960</td>\n",
       "      <td>4</td>\n",
       "      <td>8427</td>\n",
       "      <td>11.7</td>\n",
       "      <td>29.7</td>\n",
       "      <td>14010</td>\n",
       "      <td>19.8</td>\n",
       "    </tr>\n",
       "    <tr>\n",
       "      <th>4</th>\n",
       "      <td>1961</td>\n",
       "      <td>1</td>\n",
       "      <td>11883</td>\n",
       "      <td>17.1</td>\n",
       "      <td>34.9</td>\n",
       "      <td>14692</td>\n",
       "      <td>20.8</td>\n",
       "    </tr>\n",
       "    <tr>\n",
       "      <th>...</th>\n",
       "      <td>...</td>\n",
       "      <td>...</td>\n",
       "      <td>...</td>\n",
       "      <td>...</td>\n",
       "      <td>...</td>\n",
       "      <td>...</td>\n",
       "      <td>...</td>\n",
       "    </tr>\n",
       "    <tr>\n",
       "      <th>240</th>\n",
       "      <td>2020</td>\n",
       "      <td>1</td>\n",
       "      <td>8674</td>\n",
       "      <td>7.0</td>\n",
       "      <td>2.9</td>\n",
       "      <td>14371</td>\n",
       "      <td>11.7</td>\n",
       "    </tr>\n",
       "    <tr>\n",
       "      <th>241</th>\n",
       "      <td>2020</td>\n",
       "      <td>2</td>\n",
       "      <td>8582</td>\n",
       "      <td>6.9</td>\n",
       "      <td>2.7</td>\n",
       "      <td>13527</td>\n",
       "      <td>10.9</td>\n",
       "    </tr>\n",
       "    <tr>\n",
       "      <th>242</th>\n",
       "      <td>2020</td>\n",
       "      <td>3</td>\n",
       "      <td>7111</td>\n",
       "      <td>5.7</td>\n",
       "      <td>2.5</td>\n",
       "      <td>14477</td>\n",
       "      <td>11.6</td>\n",
       "    </tr>\n",
       "    <tr>\n",
       "      <th>243</th>\n",
       "      <td>2020</td>\n",
       "      <td>4</td>\n",
       "      <td>7398</td>\n",
       "      <td>5.9</td>\n",
       "      <td>2.9</td>\n",
       "      <td>13584</td>\n",
       "      <td>10.9</td>\n",
       "    </tr>\n",
       "    <tr>\n",
       "      <th>244</th>\n",
       "      <td>2021</td>\n",
       "      <td>1</td>\n",
       "      <td>9564</td>\n",
       "      <td>7.7</td>\n",
       "      <td>2.7</td>\n",
       "      <td>13895</td>\n",
       "      <td>11.2</td>\n",
       "    </tr>\n",
       "  </tbody>\n",
       "</table>\n",
       "<p>245 rows × 7 columns</p>\n",
       "</div>"
      ],
      "text/plain": [
       "     Year Quarter  Deaths_Regist  Death_Rate  Death_of_Infants  Births_Regist  \\\n",
       "0    1960       1           9399        13.3              34.7          14614   \n",
       "1    1960       2           7882        11.1              26.8          16494   \n",
       "2    1960       3           6950         9.8              26.3          15612   \n",
       "3    1960       4           8427        11.7              29.7          14010   \n",
       "4    1961       1          11883        17.1              34.9          14692   \n",
       "..    ...     ...            ...         ...               ...            ...   \n",
       "240  2020       1           8674         7.0               2.9          14371   \n",
       "241  2020       2           8582         6.9               2.7          13527   \n",
       "242  2020       3           7111         5.7               2.5          14477   \n",
       "243  2020       4           7398         5.9               2.9          13584   \n",
       "244  2021       1           9564         7.7               2.7          13895   \n",
       "\n",
       "     Birth_Rate  \n",
       "0          20.6  \n",
       "1          22.2  \n",
       "2          22.2  \n",
       "3          19.8  \n",
       "4          20.8  \n",
       "..          ...  \n",
       "240        11.7  \n",
       "241        10.9  \n",
       "242        11.6  \n",
       "243        10.9  \n",
       "244        11.2  \n",
       "\n",
       "[245 rows x 7 columns]"
      ]
     },
     "execution_count": 45,
     "metadata": {},
     "output_type": "execute_result"
    }
   ],
   "source": [
    "bdm_df"
   ]
  },
  {
   "cell_type": "code",
   "execution_count": 46,
   "metadata": {},
   "outputs": [
    {
     "data": {
      "text/html": [
       "<div>\n",
       "<style scoped>\n",
       "    .dataframe tbody tr th:only-of-type {\n",
       "        vertical-align: middle;\n",
       "    }\n",
       "\n",
       "    .dataframe tbody tr th {\n",
       "        vertical-align: top;\n",
       "    }\n",
       "\n",
       "    .dataframe thead th {\n",
       "        text-align: right;\n",
       "    }\n",
       "</style>\n",
       "<table border=\"1\" class=\"dataframe\">\n",
       "  <thead>\n",
       "    <tr style=\"text-align: right;\">\n",
       "      <th></th>\n",
       "      <th>Year</th>\n",
       "      <th>Quarter</th>\n",
       "      <th>Deaths_Regist</th>\n",
       "      <th>Death_Rate</th>\n",
       "      <th>Death_of_Infants</th>\n",
       "      <th>Births_Regist</th>\n",
       "      <th>Birth_Rate</th>\n",
       "    </tr>\n",
       "  </thead>\n",
       "  <tbody>\n",
       "    <tr>\n",
       "      <th>0</th>\n",
       "      <td>1960</td>\n",
       "      <td>1</td>\n",
       "      <td>9399</td>\n",
       "      <td>13.3</td>\n",
       "      <td>34.7</td>\n",
       "      <td>14614</td>\n",
       "      <td>20.6</td>\n",
       "    </tr>\n",
       "    <tr>\n",
       "      <th>1</th>\n",
       "      <td>1960</td>\n",
       "      <td>2</td>\n",
       "      <td>7882</td>\n",
       "      <td>11.1</td>\n",
       "      <td>26.8</td>\n",
       "      <td>16494</td>\n",
       "      <td>22.2</td>\n",
       "    </tr>\n",
       "    <tr>\n",
       "      <th>2</th>\n",
       "      <td>1960</td>\n",
       "      <td>3</td>\n",
       "      <td>6950</td>\n",
       "      <td>9.8</td>\n",
       "      <td>26.3</td>\n",
       "      <td>15612</td>\n",
       "      <td>22.2</td>\n",
       "    </tr>\n",
       "    <tr>\n",
       "      <th>3</th>\n",
       "      <td>1960</td>\n",
       "      <td>4</td>\n",
       "      <td>8427</td>\n",
       "      <td>11.7</td>\n",
       "      <td>29.7</td>\n",
       "      <td>14010</td>\n",
       "      <td>19.8</td>\n",
       "    </tr>\n",
       "    <tr>\n",
       "      <th>4</th>\n",
       "      <td>1961</td>\n",
       "      <td>1</td>\n",
       "      <td>11883</td>\n",
       "      <td>17.1</td>\n",
       "      <td>34.9</td>\n",
       "      <td>14692</td>\n",
       "      <td>20.8</td>\n",
       "    </tr>\n",
       "    <tr>\n",
       "      <th>...</th>\n",
       "      <td>...</td>\n",
       "      <td>...</td>\n",
       "      <td>...</td>\n",
       "      <td>...</td>\n",
       "      <td>...</td>\n",
       "      <td>...</td>\n",
       "      <td>...</td>\n",
       "    </tr>\n",
       "    <tr>\n",
       "      <th>240</th>\n",
       "      <td>2020</td>\n",
       "      <td>1</td>\n",
       "      <td>8674</td>\n",
       "      <td>7.0</td>\n",
       "      <td>2.9</td>\n",
       "      <td>14371</td>\n",
       "      <td>11.7</td>\n",
       "    </tr>\n",
       "    <tr>\n",
       "      <th>241</th>\n",
       "      <td>2020</td>\n",
       "      <td>2</td>\n",
       "      <td>8582</td>\n",
       "      <td>6.9</td>\n",
       "      <td>2.7</td>\n",
       "      <td>13527</td>\n",
       "      <td>10.9</td>\n",
       "    </tr>\n",
       "    <tr>\n",
       "      <th>242</th>\n",
       "      <td>2020</td>\n",
       "      <td>3</td>\n",
       "      <td>7111</td>\n",
       "      <td>5.7</td>\n",
       "      <td>2.5</td>\n",
       "      <td>14477</td>\n",
       "      <td>11.6</td>\n",
       "    </tr>\n",
       "    <tr>\n",
       "      <th>243</th>\n",
       "      <td>2020</td>\n",
       "      <td>4</td>\n",
       "      <td>7398</td>\n",
       "      <td>5.9</td>\n",
       "      <td>2.9</td>\n",
       "      <td>13584</td>\n",
       "      <td>10.9</td>\n",
       "    </tr>\n",
       "    <tr>\n",
       "      <th>244</th>\n",
       "      <td>2021</td>\n",
       "      <td>1</td>\n",
       "      <td>9564</td>\n",
       "      <td>7.7</td>\n",
       "      <td>2.7</td>\n",
       "      <td>13895</td>\n",
       "      <td>11.2</td>\n",
       "    </tr>\n",
       "  </tbody>\n",
       "</table>\n",
       "<p>245 rows × 7 columns</p>\n",
       "</div>"
      ],
      "text/plain": [
       "     Year Quarter  Deaths_Regist  Death_Rate  Death_of_Infants  Births_Regist  \\\n",
       "0    1960       1           9399        13.3              34.7          14614   \n",
       "1    1960       2           7882        11.1              26.8          16494   \n",
       "2    1960       3           6950         9.8              26.3          15612   \n",
       "3    1960       4           8427        11.7              29.7          14010   \n",
       "4    1961       1          11883        17.1              34.9          14692   \n",
       "..    ...     ...            ...         ...               ...            ...   \n",
       "240  2020       1           8674         7.0               2.9          14371   \n",
       "241  2020       2           8582         6.9               2.7          13527   \n",
       "242  2020       3           7111         5.7               2.5          14477   \n",
       "243  2020       4           7398         5.9               2.9          13584   \n",
       "244  2021       1           9564         7.7               2.7          13895   \n",
       "\n",
       "     Birth_Rate  \n",
       "0          20.6  \n",
       "1          22.2  \n",
       "2          22.2  \n",
       "3          19.8  \n",
       "4          20.8  \n",
       "..          ...  \n",
       "240        11.7  \n",
       "241        10.9  \n",
       "242        11.6  \n",
       "243        10.9  \n",
       "244        11.2  \n",
       "\n",
       "[245 rows x 7 columns]"
      ]
     },
     "execution_count": 46,
     "metadata": {},
     "output_type": "execute_result"
    }
   ],
   "source": [
    "bdm_df"
   ]
  },
  {
   "cell_type": "markdown",
   "metadata": {},
   "source": [
    "### Scaling"
   ]
  },
  {
   "cell_type": "markdown",
   "metadata": {},
   "source": [
    "### Import Library to scale the data"
   ]
  },
  {
   "cell_type": "code",
   "execution_count": 47,
   "metadata": {},
   "outputs": [],
   "source": [
    "from sklearn.preprocessing import StandardScaler"
   ]
  },
  {
   "cell_type": "code",
   "execution_count": null,
   "metadata": {},
   "outputs": [],
   "source": []
  },
  {
   "cell_type": "code",
   "execution_count": 48,
   "metadata": {},
   "outputs": [],
   "source": [
    "# create an instance of the class \n",
    "scaler = StandardScaler()\n",
    "\n",
    "bdm_df_scale = pd.DataFrame(scaler.fit_transform(bdm_df),columns=bdm_df.columns)"
   ]
  },
  {
   "cell_type": "code",
   "execution_count": 49,
   "metadata": {},
   "outputs": [
    {
     "data": {
      "text/html": [
       "<div>\n",
       "<style scoped>\n",
       "    .dataframe tbody tr th:only-of-type {\n",
       "        vertical-align: middle;\n",
       "    }\n",
       "\n",
       "    .dataframe tbody tr th {\n",
       "        vertical-align: top;\n",
       "    }\n",
       "\n",
       "    .dataframe thead th {\n",
       "        text-align: right;\n",
       "    }\n",
       "</style>\n",
       "<table border=\"1\" class=\"dataframe\">\n",
       "  <thead>\n",
       "    <tr style=\"text-align: right;\">\n",
       "      <th></th>\n",
       "      <th>Year</th>\n",
       "      <th>Quarter</th>\n",
       "      <th>Deaths_Regist</th>\n",
       "      <th>Death_Rate</th>\n",
       "      <th>Death_of_Infants</th>\n",
       "      <th>Births_Regist</th>\n",
       "      <th>Birth_Rate</th>\n",
       "    </tr>\n",
       "  </thead>\n",
       "  <tbody>\n",
       "    <tr>\n",
       "      <th>0</th>\n",
       "      <td>-1.703829</td>\n",
       "      <td>-1.334008</td>\n",
       "      <td>1.596368</td>\n",
       "      <td>2.028974</td>\n",
       "      <td>2.902186</td>\n",
       "      <td>-0.531787</td>\n",
       "      <td>0.939687</td>\n",
       "    </tr>\n",
       "    <tr>\n",
       "      <th>1</th>\n",
       "      <td>-1.703829</td>\n",
       "      <td>-0.441025</td>\n",
       "      <td>0.009046</td>\n",
       "      <td>1.017396</td>\n",
       "      <td>1.940933</td>\n",
       "      <td>0.430283</td>\n",
       "      <td>1.410251</td>\n",
       "    </tr>\n",
       "    <tr>\n",
       "      <th>2</th>\n",
       "      <td>-1.703829</td>\n",
       "      <td>0.451959</td>\n",
       "      <td>-0.966158</td>\n",
       "      <td>0.419645</td>\n",
       "      <td>1.880094</td>\n",
       "      <td>-0.021071</td>\n",
       "      <td>1.410251</td>\n",
       "    </tr>\n",
       "    <tr>\n",
       "      <th>3</th>\n",
       "      <td>-1.703829</td>\n",
       "      <td>1.344943</td>\n",
       "      <td>0.579310</td>\n",
       "      <td>1.293281</td>\n",
       "      <td>2.293798</td>\n",
       "      <td>-0.840877</td>\n",
       "      <td>0.704405</td>\n",
       "    </tr>\n",
       "    <tr>\n",
       "      <th>4</th>\n",
       "      <td>-1.647273</td>\n",
       "      <td>-1.334008</td>\n",
       "      <td>4.195517</td>\n",
       "      <td>3.776246</td>\n",
       "      <td>2.926522</td>\n",
       "      <td>-0.491871</td>\n",
       "      <td>0.998508</td>\n",
       "    </tr>\n",
       "  </tbody>\n",
       "</table>\n",
       "</div>"
      ],
      "text/plain": [
       "       Year   Quarter  Deaths_Regist  Death_Rate  Death_of_Infants  \\\n",
       "0 -1.703829 -1.334008       1.596368    2.028974          2.902186   \n",
       "1 -1.703829 -0.441025       0.009046    1.017396          1.940933   \n",
       "2 -1.703829  0.451959      -0.966158    0.419645          1.880094   \n",
       "3 -1.703829  1.344943       0.579310    1.293281          2.293798   \n",
       "4 -1.647273 -1.334008       4.195517    3.776246          2.926522   \n",
       "\n",
       "   Births_Regist  Birth_Rate  \n",
       "0      -0.531787    0.939687  \n",
       "1       0.430283    1.410251  \n",
       "2      -0.021071    1.410251  \n",
       "3      -0.840877    0.704405  \n",
       "4      -0.491871    0.998508  "
      ]
     },
     "execution_count": 49,
     "metadata": {},
     "output_type": "execute_result"
    }
   ],
   "source": [
    "bdm_df_scale.head()"
   ]
  },
  {
   "cell_type": "markdown",
   "metadata": {},
   "source": [
    "##### Define independent variable X"
   ]
  },
  {
   "cell_type": "code",
   "execution_count": 50,
   "metadata": {},
   "outputs": [],
   "source": [
    "X = bdm_df_scale.drop(['Death_of_Infants'],axis=1)"
   ]
  },
  {
   "cell_type": "markdown",
   "metadata": {},
   "source": [
    "##### Define dependent variable TARGET y"
   ]
  },
  {
   "cell_type": "code",
   "execution_count": 51,
   "metadata": {},
   "outputs": [],
   "source": [
    "y = bdm_df['Death_of_Infants']"
   ]
  },
  {
   "cell_type": "markdown",
   "metadata": {},
   "source": [
    "##### Import Library to split data into training and testing"
   ]
  },
  {
   "cell_type": "code",
   "execution_count": 52,
   "metadata": {},
   "outputs": [],
   "source": [
    "from sklearn.model_selection import train_test_split"
   ]
  },
  {
   "cell_type": "code",
   "execution_count": 53,
   "metadata": {},
   "outputs": [],
   "source": [
    "X_train, X_test, Y_train, Y_test = train_test_split(X, y, test_size=0.2, random_state= 42)"
   ]
  },
  {
   "cell_type": "code",
   "execution_count": 54,
   "metadata": {},
   "outputs": [
    {
     "name": "stdout",
     "output_type": "stream",
     "text": [
      "(196, 6)\n",
      "(49, 6)\n",
      "(196,)\n",
      "(49,)\n"
     ]
    }
   ],
   "source": [
    "print(X_train.shape)\n",
    "print(X_test.shape)\n",
    "print(Y_train.shape)\n",
    "print(Y_test.shape)"
   ]
  },
  {
   "cell_type": "markdown",
   "metadata": {},
   "source": [
    "##       Linear Regression "
   ]
  },
  {
   "cell_type": "code",
   "execution_count": null,
   "metadata": {},
   "outputs": [],
   "source": []
  },
  {
   "cell_type": "code",
   "execution_count": 55,
   "metadata": {},
   "outputs": [],
   "source": [
    "# Create a class named as 'LinearRegressionGD'\n",
    "class LinearRegressionGD(object):\n",
    "    \n",
    "    def __init__(self, eta = 0.001, n_iter = 20):\n",
    "        self.eta = eta\n",
    "        self.n_iter = n_iter\n",
    "\n",
    "    def fit(self, X, y):\n",
    "        self.w_ = np.zeros(1 + X.shape[1])\n",
    "        self.cost_ = []\n",
    "\n",
    "        for i in range(self.n_iter):\n",
    "            output = self.net_input(X)\n",
    "            errors = (y - output)\n",
    "            self.w_[1:] += self.eta * X.T.dot(errors)\n",
    "            self.w_[0] += self.eta * errors.sum()\n",
    "            cost = (errors**2).sum() / 2.0\n",
    "            self.cost_.append(cost)\n",
    "        return self\n",
    "\n",
    "    def net_input(self, X):\n",
    "        return np.dot(X, self.w_[1:]) + self.w_[0]\n",
    "\n",
    "    def predict(self, X):\n",
    "        return self.net_input(X)"
   ]
  },
  {
   "cell_type": "code",
   "execution_count": 56,
   "metadata": {},
   "outputs": [
    {
     "data": {
      "text/plain": [
       "Index(['Year', 'Quarter', 'Deaths_Regist', 'Death_Rate', 'Death_of_Infants',\n",
       "       'Births_Regist', 'Birth_Rate'],\n",
       "      dtype='object')"
      ]
     },
     "execution_count": 56,
     "metadata": {},
     "output_type": "execute_result"
    }
   ],
   "source": [
    "bdm_df.columns"
   ]
  },
  {
   "cell_type": "markdown",
   "metadata": {},
   "source": [
    "##### Define the independent variables as X"
   ]
  },
  {
   "cell_type": "code",
   "execution_count": 57,
   "metadata": {},
   "outputs": [],
   "source": [
    "X = bdm_df[['Death_Rate']].values"
   ]
  },
  {
   "cell_type": "markdown",
   "metadata": {},
   "source": [
    "##### Define the dependent variable or TARGET as y"
   ]
  },
  {
   "cell_type": "code",
   "execution_count": 58,
   "metadata": {},
   "outputs": [],
   "source": [
    "\n",
    "y = bdm_df[['Birth_Rate']].values"
   ]
  },
  {
   "cell_type": "markdown",
   "metadata": {},
   "source": [
    "##### check their shapes"
   ]
  },
  {
   "cell_type": "code",
   "execution_count": 59,
   "metadata": {},
   "outputs": [
    {
     "data": {
      "text/plain": [
       "((245, 1), (245, 1))"
      ]
     },
     "execution_count": 59,
     "metadata": {},
     "output_type": "execute_result"
    }
   ],
   "source": [
    "X.shape, y.shape"
   ]
  },
  {
   "cell_type": "markdown",
   "metadata": {},
   "source": [
    "##### Import Libraries"
   ]
  },
  {
   "cell_type": "code",
   "execution_count": 60,
   "metadata": {},
   "outputs": [],
   "source": [
    "# Import the library for normalization of the data\n",
    "from sklearn.preprocessing import StandardScaler"
   ]
  },
  {
   "cell_type": "code",
   "execution_count": 61,
   "metadata": {},
   "outputs": [],
   "source": [
    "# Initialise the objects using StandardScaler() \n",
    "sc_x = StandardScaler()\n",
    "sc_y = StandardScaler()"
   ]
  },
  {
   "cell_type": "markdown",
   "metadata": {},
   "source": [
    "##### Train using X and y"
   ]
  },
  {
   "cell_type": "code",
   "execution_count": 62,
   "metadata": {},
   "outputs": [],
   "source": [
    "# Train the objects using fit_transform()\n",
    "X_std = sc_x.fit_transform(X)\n",
    "y_std = sc_y.fit_transform(y)"
   ]
  },
  {
   "cell_type": "markdown",
   "metadata": {},
   "source": [
    "##### import another library"
   ]
  },
  {
   "cell_type": "code",
   "execution_count": 63,
   "metadata": {},
   "outputs": [],
   "source": [
    "# import everything from sklearn\n",
    "import sklearn.preprocessing as preproc\n"
   ]
  },
  {
   "cell_type": "markdown",
   "metadata": {},
   "source": [
    "#####      First lets look at birth and death rates, because a relationship was indicated here on the pairplot,      X = Death Rate           y = Birth Rate"
   ]
  },
  {
   "cell_type": "markdown",
   "metadata": {},
   "source": [
    "##### A reminder of the column names"
   ]
  },
  {
   "cell_type": "code",
   "execution_count": 64,
   "metadata": {},
   "outputs": [
    {
     "data": {
      "text/plain": [
       "Index(['Year', 'Quarter', 'Deaths_Regist', 'Death_Rate', 'Death_of_Infants',\n",
       "       'Births_Regist', 'Birth_Rate'],\n",
       "      dtype='object')"
      ]
     },
     "execution_count": 64,
     "metadata": {},
     "output_type": "execute_result"
    }
   ],
   "source": [
    "# show the column in the dataframe\n",
    "bdm_df.columns"
   ]
  },
  {
   "cell_type": "markdown",
   "metadata": {},
   "source": [
    "##### Scale input vectors individually to unit norm (vector length)."
   ]
  },
  {
   "cell_type": "code",
   "execution_count": 65,
   "metadata": {},
   "outputs": [],
   "source": [
    "\n",
    "# normalized will begin at zero\n",
    "bdm_df[\"Death_Rate_normalized\"] = preproc.normalize(bdm_df[[\"Death_Rate\"]], axis = 0)\n",
    "bdm_df[\"Birth_Rate_normalized\"] = preproc.normalize(bdm_df[[\"Birth_Rate\"]], axis = 0)"
   ]
  },
  {
   "cell_type": "code",
   "execution_count": 66,
   "metadata": {},
   "outputs": [],
   "source": [
    "X_normalized = bdm_df[\"Death_Rate_normalized\"]\n",
    "y_normalized = bdm_df[\"Birth_Rate_normalized\"]"
   ]
  },
  {
   "cell_type": "markdown",
   "metadata": {},
   "source": [
    "##### reshape normalized array y_std "
   ]
  },
  {
   "cell_type": "code",
   "execution_count": 67,
   "metadata": {},
   "outputs": [
    {
     "data": {
      "text/plain": [
       "((245, 1), (245,))"
      ]
     },
     "execution_count": 67,
     "metadata": {},
     "output_type": "execute_result"
    }
   ],
   "source": [
    "# Reshape the (245, 1) to (245,) array for Machine Learning model\n",
    "y_std = np.reshape(y_std, 245)\n",
    "\n",
    "# Display the number of rows and columns\n",
    "X_std.shape, y_std.shape"
   ]
  },
  {
   "cell_type": "code",
   "execution_count": 68,
   "metadata": {},
   "outputs": [
    {
     "data": {
      "text/plain": [
       "<__main__.LinearRegressionGD at 0x22c0d847e80>"
      ]
     },
     "execution_count": 68,
     "metadata": {},
     "output_type": "execute_result"
    }
   ],
   "source": [
    "# Initialise an object (lr) using the created function LinearRegressionGD()\n",
    "lr = LinearRegressionGD()\n",
    "\n",
    "# Train the model by calling fit() mentiof\n",
    "lr.fit(X_std, y_std)"
   ]
  },
  {
   "cell_type": "markdown",
   "metadata": {},
   "source": [
    "##### Plot"
   ]
  },
  {
   "cell_type": "code",
   "execution_count": 69,
   "metadata": {},
   "outputs": [
    {
     "data": {
      "image/png": "[encoded data removed]",
      "text/plain": [
       "<Figure size 432x288 with 1 Axes>"
      ]
     },
     "metadata": {
      "needs_background": "light"
     },
     "output_type": "display_data"
    }
   ],
   "source": [
    "# Draw a plot using linear regression iterations and cost\n",
    "plt.plot(range(1, lr.n_iter + 1), lr.cost_)\n",
    "plt.ylabel('SSE')           # SSE means 'sum of squares error'\n",
    "plt.xlabel('Epoch')         # The number of epochs is a hyperparameter that defines the number times \n",
    "                            # that the learning algorithm will work through the entire training \n",
    "                            # dataset. One epoch means that each sample in the training dataset has \n",
    "                            # had an opportunity to update the internal model parameters. \n",
    "                            # An epoch is comprised of one or more batches.\n",
    "plt.tight_layout()\n",
    "plt.savefig('cost.png', dpi = 300)\n",
    "plt.show()"
   ]
  },
  {
   "cell_type": "code",
   "execution_count": 70,
   "metadata": {},
   "outputs": [],
   "source": [
    "# Method or Function for Linear Regression plot\n",
    "def lin_regplot(X, y, model):\n",
    "    plt.scatter(X, y, c = 'blue')\n",
    "    plt.plot(X, model.predict(X), color = 'red', linewidth = 2)    \n",
    "    return"
   ]
  },
  {
   "cell_type": "code",
   "execution_count": 71,
   "metadata": {},
   "outputs": [
    {
     "data": {
      "image/png": "[encoded data removed]",
      "text/plain": [
       "<Figure size 432x288 with 1 Axes>"
      ]
     },
     "metadata": {
      "needs_background": "light"
     },
     "output_type": "display_data"
    }
   ],
   "source": [
    "# Call the method lin_regplot()\n",
    "lin_regplot(X_std, y_std, lr)\n",
    "plt.xlabel('Death Rate -- (standardized)')\n",
    "plt.ylabel('Birth Rate -- (standardized)')\n",
    "plt.tight_layout()\n",
    "# plt.savefig('./figures/gradient_fit.png', dpi=300)\n",
    "plt.show()"
   ]
  },
  {
   "cell_type": "markdown",
   "metadata": {},
   "source": [
    "## Ridge Regression"
   ]
  },
  {
   "cell_type": "markdown",
   "metadata": {},
   "source": [
    "##### Import Libraries"
   ]
  },
  {
   "cell_type": "code",
   "execution_count": 72,
   "metadata": {},
   "outputs": [],
   "source": [
    "from sklearn.model_selection import (GridSearchCV, cross_val_score, cross_val_predict, StratifiedKFold, learning_curve)\n",
    "from sklearn.linear_model import LinearRegression,Ridge,Lasso\n",
    "from statsmodels.tools.eval_measures import mse, rmse"
   ]
  },
  {
   "cell_type": "code",
   "execution_count": 73,
   "metadata": {},
   "outputs": [
    {
     "name": "stdout",
     "output_type": "stream",
     "text": [
      "Fitting 5 folds for each of 3 candidates, totalling 15 fits\n",
      "R-squared of the model in training set is: 0.8724889638068932\n",
      "-----Test set statistics-----\n",
      "R-squared of the model in test set is: 0.8406518303437509\n",
      "Root mean squared error of the prediction is: 3.5239479655608177\n",
      "Mean absolute percentage error of the prediction is: 27.374009698060114\n"
     ]
    },
    {
     "name": "stderr",
     "output_type": "stream",
     "text": [
      "[Parallel(n_jobs=1)]: Using backend SequentialBackend with 1 concurrent workers.\n",
      "[Parallel(n_jobs=1)]: Done  15 out of  15 | elapsed:    0.0s finished\n"
     ]
    }
   ],
   "source": [
    "# Using GridSearch for parameter optimization\n",
    "ridgeregr = GridSearchCV(Ridge(),\n",
    "                    param_grid={\n",
    "                        'alpha': [0.01, 0.1, 1]\n",
    "                    }, verbose=1)\n",
    "\n",
    "ridgeregr.fit(X_train, Y_train)\n",
    "\n",
    "ridge = ridgeregr.best_estimator_\n",
    "\n",
    "# Making predictions here\n",
    "y_preds_train = ridge.predict(X_train)\n",
    "y_preds_test_ridge = ridge.predict(X_test)\n",
    "\n",
    "print(\"R-squared of the model in training set is: {}\".format(ridge.score(X_train, Y_train)))\n",
    "print(\"-----Test set statistics-----\")\n",
    "print(\"R-squared of the model in test set is: {}\".format(ridge.score(X_test, Y_test)))\n",
    "print(\"Root mean squared error of the prediction is: {}\".format(mse(Y_test, y_preds_test_ridge)**(1/2)))\n",
    "print(\"Mean absolute percentage error of the prediction is: {}\".format(np.mean(np.abs((Y_test - y_preds_test_ridge) / Y_test)) * 100))"
   ]
  },
  {
   "cell_type": "markdown",
   "metadata": {},
   "source": [
    "## Lasso Regression"
   ]
  },
  {
   "cell_type": "code",
   "execution_count": 74,
   "metadata": {},
   "outputs": [
    {
     "name": "stdout",
     "output_type": "stream",
     "text": [
      "Fitting 5 folds for each of 3 candidates, totalling 15 fits\n"
     ]
    },
    {
     "name": "stderr",
     "output_type": "stream",
     "text": [
      "[Parallel(n_jobs=1)]: Using backend SequentialBackend with 1 concurrent workers.\n",
      "[Parallel(n_jobs=1)]: Done  15 out of  15 | elapsed:    0.0s finished\n"
     ]
    }
   ],
   "source": [
    "# using GridSearch for parameter optimization\n",
    "lassoregr = GridSearchCV(Lasso(),\n",
    "                    param_grid={\n",
    "                        'alpha': [0.01, 0.1, 1]\n",
    "                    }, verbose=1)\n",
    "\n",
    "lassoregr.fit(X_train, Y_train)\n",
    "\n",
    "lasso = lassoregr.best_estimator_"
   ]
  },
  {
   "cell_type": "code",
   "execution_count": 75,
   "metadata": {},
   "outputs": [
    {
     "name": "stdout",
     "output_type": "stream",
     "text": [
      "R-squared of the model in training set is: 0.871682724100223\n",
      "-----Test set statistics-----\n",
      "R-squared of the model in test set is: 0.8455421140048184\n",
      "Root mean squared error of the prediction is: 3.4694528565639815\n",
      "Mean absolute percentage error of the prediction is: 26.32094262054241\n"
     ]
    }
   ],
   "source": [
    "# We are making predictions here\n",
    "y_preds_train = lasso.predict(X_train)\n",
    "y_preds_test_lasso = lasso.predict(X_test)\n",
    "\n",
    "print(\"R-squared of the model in training set is: {}\".format(lasso.score(X_train, Y_train)))\n",
    "print(\"-----Test set statistics-----\")\n",
    "print(\"R-squared of the model in test set is: {}\".format(lasso.score(X_test, Y_test)))\n",
    "print(\"Root mean squared error of the prediction is: {}\".format(rmse(Y_test, y_preds_test_lasso)))\n",
    "print(\"Mean absolute percentage error of the prediction is: {}\".format(np.mean(np.abs((Y_test - y_preds_test_lasso) / Y_test)) * 100))"
   ]
  },
  {
   "cell_type": "markdown",
   "metadata": {},
   "source": [
    "## Decision Tree Regressor"
   ]
  },
  {
   "cell_type": "code",
   "execution_count": 76,
   "metadata": {},
   "outputs": [],
   "source": [
    "X_train, X_test, Y_train, Y_test = train_test_split(X, y, test_size=0.2, random_state= 42)"
   ]
  },
  {
   "cell_type": "markdown",
   "metadata": {},
   "source": [
    "##### Import Library"
   ]
  },
  {
   "cell_type": "code",
   "execution_count": 77,
   "metadata": {},
   "outputs": [],
   "source": [
    "from sklearn.tree import DecisionTreeRegressor\n"
   ]
  },
  {
   "cell_type": "code",
   "execution_count": 78,
   "metadata": {},
   "outputs": [],
   "source": [
    "# create an instance of DecisionTreeRegressor class\n",
    "DTregressor = DecisionTreeRegressor()"
   ]
  },
  {
   "cell_type": "code",
   "execution_count": 79,
   "metadata": {},
   "outputs": [],
   "source": [
    "##### train model"
   ]
  },
  {
   "cell_type": "code",
   "execution_count": 80,
   "metadata": {},
   "outputs": [
    {
     "data": {
      "text/plain": [
       "DecisionTreeRegressor()"
      ]
     },
     "execution_count": 80,
     "metadata": {},
     "output_type": "execute_result"
    }
   ],
   "source": [
    "\n",
    "DTregressor.fit(X_train, Y_train)"
   ]
  },
  {
   "cell_type": "code",
   "execution_count": 81,
   "metadata": {},
   "outputs": [],
   "source": [
    "y_pred_DT = DTregressor.predict(X_test)"
   ]
  },
  {
   "cell_type": "code",
   "execution_count": 82,
   "metadata": {},
   "outputs": [
    {
     "name": "stdout",
     "output_type": "stream",
     "text": [
      "R-squared of the model in training set is: 0.725465445168209\n",
      "-----Test set statistics-----\n",
      "R-squared of the model in test set is: 0.20821765644378587\n",
      "Root mean squared error of the prediction is: [5.12048706 4.92983938 3.31545546 4.16773592 4.70529966 4.38415514\n",
      " 4.38415514 3.28901232 5.51602489 4.96754775 5.43554064 4.77602431\n",
      " 4.92983938 3.87433851 3.31545546 4.53825154 6.02026446 3.41730291\n",
      " 4.02575326 4.09569834 5.43554064 3.41730291 3.31545546 4.0740593\n",
      " 4.70529966 5.12048706 4.0740593  4.36026235 3.87433851 3.95665288\n",
      " 3.63279032 6.02026446 5.27657511 5.12048706 3.39796608 3.39796608\n",
      " 3.42851934 6.02026446 4.53825154 3.53559884 4.02575326 3.39796608\n",
      " 4.92983938 5.27657511 4.59091828 4.85508885 6.02026446 4.92983938\n",
      " 4.09569834]\n",
      "Mean absolute percentage error of the prediction is: 21.426844278831954\n"
     ]
    }
   ],
   "source": [
    "print(\"R-squared of the model in training set is: {}\".format(DTregressor.score(X_train, Y_train)))\n",
    "print(\"-----Test set statistics-----\")\n",
    "print(\"R-squared of the model in test set is: {}\".format(DTregressor.score(X_test, Y_test)))\n",
    "print(\"Root mean squared error of the prediction is: {}\".format(mse(Y_test, y_pred_DT)**(1/2)))\n",
    "print(\"Mean absolute percentage error of the prediction is: {}\".format(np.mean(np.abs((Y_test - y_pred_DT) / Y_test)) * 100))"
   ]
  },
  {
   "cell_type": "markdown",
   "metadata": {},
   "source": [
    "## Random Forest"
   ]
  },
  {
   "cell_type": "markdown",
   "metadata": {},
   "source": [
    "##### Import Library"
   ]
  },
  {
   "cell_type": "code",
   "execution_count": 83,
   "metadata": {},
   "outputs": [],
   "source": [
    "from sklearn.ensemble import RandomForestRegressor"
   ]
  },
  {
   "cell_type": "markdown",
   "metadata": {},
   "source": [
    "##### Split data set"
   ]
  },
  {
   "cell_type": "code",
   "execution_count": 84,
   "metadata": {},
   "outputs": [],
   "source": [
    "X_train, X_test, Y_train, Y_test = train_test_split(X, y, test_size=0.2, random_state= 42)"
   ]
  },
  {
   "cell_type": "code",
   "execution_count": 85,
   "metadata": {},
   "outputs": [],
   "source": [
    "# create an instance of class RandomForestRegressor\n",
    "regressor = RandomForestRegressor(n_estimators = 100, random_state = 0)"
   ]
  },
  {
   "cell_type": "markdown",
   "metadata": {},
   "source": [
    "##### Train model"
   ]
  },
  {
   "cell_type": "code",
   "execution_count": 86,
   "metadata": {},
   "outputs": [
    {
     "name": "stderr",
     "output_type": "stream",
     "text": [
      "<ipython-input-86-cc2acbfe448e>:1: DataConversionWarning: A column-vector y was passed when a 1d array was expected. Please change the shape of y to (n_samples,), for example using ravel().\n",
      "  regressor.fit(X_train, Y_train)\n"
     ]
    },
    {
     "data": {
      "text/plain": [
       "RandomForestRegressor(random_state=0)"
      ]
     },
     "execution_count": 86,
     "metadata": {},
     "output_type": "execute_result"
    }
   ],
   "source": [
    "\n",
    "regressor.fit(X_train, Y_train)"
   ]
  },
  {
   "cell_type": "code",
   "execution_count": null,
   "metadata": {},
   "outputs": [],
   "source": []
  },
  {
   "cell_type": "code",
   "execution_count": null,
   "metadata": {},
   "outputs": [],
   "source": []
  }
 ],
 "metadata": {
  "kernelspec": {
   "display_name": "Python 3",
   "language": "python",
   "name": "python3"
  },
  "language_info": {
   "codemirror_mode": {
    "name": "ipython",
    "version": 3
   },
   "file_extension": ".py",
   "mimetype": "text/x-python",
   "name": "python",
   "nbconvert_exporter": "python",
   "pygments_lexer": "ipython3",
   "version": "3.8.5"
  }
 },
 "nbformat": 4,
 "nbformat_minor": 4
}
